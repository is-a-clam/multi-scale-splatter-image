{
  "cells": [
    {
      "cell_type": "markdown",
      "metadata": {
        "id": "view-in-github",
        "colab_type": "text"
      },
      "source": [
        "<a href=\"https://colab.research.google.com/github/is-a-clam/multi-scale-splatter-image/blob/main/Multi_Scale_Splatter_Image.ipynb\" target=\"_parent\"><img src=\"https://colab.research.google.com/assets/colab-badge.svg\" alt=\"Open In Colab\"/></a>"
      ]
    },
    {
      "cell_type": "code",
      "execution_count": null,
      "metadata": {
        "id": "9z0WD01jVZGO"
      },
      "outputs": [],
      "source": [
        "%%capture\n",
        "!pip install torchmetrics torchvision lightning einops lpips ema_pytorch objaverse trimesh matplotlib tqdm omegaconf\n",
        "# See https://en.wikipedia.org/wiki/CUDA#GPUs_supported.\n",
        "# If you use a GPU arch not in this list, things will go wrong.\n",
        "# On Colab, we can choose from:\n",
        "cuda_arch_list = \" \".join(str(arch) for arch in [\n",
        "    7.5, # Turing, T4\n",
        "    8.0, # Ampere, A100\n",
        "    8.9, # Ada Lovelace, L4\n",
        "])\n",
        "!TORCH_CUDA_ARCH_LIST=\"{cuda_arch_list}\" pip install git+https://github.com/graphdeco-inria/diff-gaussian-rasterization.git@dr_aa"
      ]
    },
    {
      "cell_type": "code",
      "execution_count": null,
      "metadata": {
        "id": "XIyl0ZXhwjTV"
      },
      "outputs": [],
      "source": [
        "import os\n",
        "import glob\n",
        "import math\n",
        "import gdown\n",
        "import json\n",
        "import shutil\n",
        "import subprocess\n",
        "import tempfile\n",
        "import zipfile\n",
        "import torch\n",
        "import torchvision\n",
        "import torchmetrics\n",
        "import lpips as lpips_lib\n",
        "import numpy as np\n",
        "import torch.nn as nn\n",
        "import matplotlib.pyplot as plt\n",
        "import scipy\n",
        "import math\n",
        "\n",
        "from google.colab import drive, runtime\n",
        "from typing import NamedTuple\n",
        "from pathlib import Path\n",
        "from PIL import Image\n",
        "from torch.nn.functional import silu\n",
        "from torch.utils.data import DataLoader, Dataset\n",
        "from lightning.fabric import Fabric\n",
        "from einops import rearrange, repeat\n",
        "from ema_pytorch import EMA\n",
        "from diff_gaussian_rasterization import GaussianRasterizationSettings, GaussianRasterizer\n",
        "from tqdm import tqdm"
      ]
    },
    {
      "cell_type": "code",
      "source": [
        "torch.set_float32_matmul_precision(\"high\")\n",
        "fabric = Fabric(accelerator = \"cuda\")\n",
        "fabric.launch()"
      ],
      "metadata": {
        "id": "3BrWfRKalXsg"
      },
      "execution_count": null,
      "outputs": []
    },
    {
      "cell_type": "markdown",
      "metadata": {
        "id": "_w23MLa4Q9bW"
      },
      "source": [
        "# Constants"
      ]
    },
    {
      "cell_type": "code",
      "execution_count": null,
      "metadata": {
        "id": "p5W3mZk5ZMgM"
      },
      "outputs": [],
      "source": [
        "iterations = 10000\n",
        "learning_rate = 0.00005\n",
        "betas = (0.9, 0.999)\n",
        "batch_size = 4\n",
        "\n",
        "bg_color = [1, 1, 1]\n",
        "background = torch.tensor(bg_color, dtype=torch.float32)\n",
        "background = fabric.to_device(background)\n",
        "\n",
        "# data_category = \"cars\"\n",
        "data_category = \"chairs\"\n",
        "\n",
        "match data_category:\n",
        "    case \"cars\":\n",
        "        GDOWN_URL = \"https://drive.google.com/uc?id=19yDsEJjx9zNpOKz9o6AaK-E8ED6taJWU=\"\n",
        "        data_resolution = 128\n",
        "        data_znear = 0.8\n",
        "        data_zfar = 1.8\n",
        "        data_fov = 51.98948897809546\n",
        "        opacity_scale = 0.001\n",
        "        opacity_bias = -3.0\n",
        "        scale_scale = 0.001\n",
        "        scale_bias = 0.02\n",
        "        xyz_scale = 0.000001\n",
        "        xyz_bias = 0.0\n",
        "        depth_scale = 1.0\n",
        "        depth_bias = 0.0\n",
        "    case \"chairs\":\n",
        "        GDOWN_URL = \"https://drive.google.com/uc?id=1VWtRZkC4_ON6EBhNNBTag-BwsjPB2Yc8\"\n",
        "        data_resolution = 128\n",
        "        data_znear = 1.25\n",
        "        data_zfar = 2.75\n",
        "        data_fov = 51.98948897809546\n",
        "        opacity_scale = 0.001\n",
        "        opacity_bias = -2.0\n",
        "        scale_scale = 0.001\n",
        "        scale_bias = 0.02\n",
        "        xyz_scale = 0.000001\n",
        "        xyz_bias = 0.0\n",
        "        depth_scale = 1.0\n",
        "        depth_bias = 0.0"
      ]
    },
    {
      "cell_type": "markdown",
      "metadata": {
        "id": "vxjym0yzQ_6k"
      },
      "source": [
        "# Utils"
      ]
    },
    {
      "cell_type": "code",
      "source": [
        "def images_side_by_side(first_image, second_image, first_name, second_name=\"Ground Truth Image\"):\n",
        "    fig, ax = plt.subplots(1, 2)\n",
        "\n",
        "    ax[0].imshow((first_image.cpu().detach().permute(1, 2, 0).numpy()))\n",
        "    ax[0].set_title(first_name)\n",
        "    ax[0].axis(\"off\")\n",
        "\n",
        "    ax[1].imshow((second_image.cpu().permute(1, 2, 0).numpy()))\n",
        "    ax[1].set_title(second_name)\n",
        "    ax[1].axis(\"off\")\n",
        "\n",
        "    plt.show()"
      ],
      "metadata": {
        "id": "5IFBy1RZEqkK"
      },
      "execution_count": null,
      "outputs": []
    },
    {
      "cell_type": "code",
      "execution_count": null,
      "metadata": {
        "id": "ECpdl3-df8Ey"
      },
      "outputs": [],
      "source": [
        "def focal2fov(focal, pixels):\n",
        "    return 2*math.atan(pixels/(2*focal))\n",
        "\n",
        "def fov2focal(fov, pixels):\n",
        "    return pixels / (2 * math.tan(fov / 2))\n",
        "\n",
        "def PILtoTorch(pil_image, resolution):\n",
        "    resized_image_PIL = pil_image.resize(resolution)\n",
        "    resized_image = torch.from_numpy(np.array(resized_image_PIL)) / 255.0\n",
        "    if len(resized_image.shape) == 3:\n",
        "        return resized_image.permute(2, 0, 1)\n",
        "    else:\n",
        "        return resized_image.unsqueeze(dim=-1).permute(2, 0, 1)\n",
        "\n",
        "def getWorld2View2(R, t, translate=np.array([.0, .0, .0]), scale=1.0):\n",
        "    Rt = np.zeros((4, 4))\n",
        "    Rt[:3, :3] = R.transpose()\n",
        "    Rt[:3, 3] = t\n",
        "    Rt[3, 3] = 1.0\n",
        "\n",
        "    C2W = np.linalg.inv(Rt)\n",
        "    cam_center = C2W[:3, 3]\n",
        "    cam_center = (cam_center + translate) * scale\n",
        "    C2W[:3, 3] = cam_center\n",
        "    Rt = np.linalg.inv(C2W)\n",
        "    return np.float32(Rt)\n",
        "\n",
        "def getView2World(R, t, translate=np.array([.0, .0, .0]), scale=1.0):\n",
        "    Rt = np.zeros((4, 4))\n",
        "    Rt[:3, :3] = R.transpose()\n",
        "    Rt[:3, 3] = t\n",
        "    Rt[3, 3] = 1.0\n",
        "\n",
        "    C2W = np.linalg.inv(Rt)\n",
        "    cam_center = C2W[:3, 3]\n",
        "    cam_center = (cam_center + translate) * scale\n",
        "    C2W[:3, 3] = cam_center\n",
        "    Rt = C2W\n",
        "    return np.float32(Rt)\n",
        "\n",
        "def quaternion_raw_multiply(a: torch.Tensor, b: torch.Tensor) -> torch.Tensor:\n",
        "    \"\"\"\n",
        "    From Pytorch3d\n",
        "    Multiply two quaternions.\n",
        "    Usual torch rules for broadcasting apply.\n",
        "\n",
        "    Args:\n",
        "        a: Quaternions as tensor of shape (..., 4), real part first.\n",
        "        b: Quaternions as tensor of shape (..., 4), real part first.\n",
        "\n",
        "    Returns:\n",
        "        The product of a and b, a tensor of quaternions shape (..., 4).\n",
        "    \"\"\"\n",
        "    aw, ax, ay, az = torch.unbind(a, -1)\n",
        "    bw, bx, by, bz = torch.unbind(b, -1)\n",
        "    ow = aw * bw - ax * bx - ay * by - az * bz\n",
        "    ox = aw * bx + ax * bw + ay * bz - az * by\n",
        "    oy = aw * by - ax * bz + ay * bw + az * bx\n",
        "    oz = aw * bz + ax * by - ay * bx + az * bw\n",
        "    return torch.stack((ow, ox, oy, oz), -1)\n",
        "\n",
        "# Matrix to quaternion does not come under NVIDIA Copyright\n",
        "# Written by Stan Szymanowicz 2023\n",
        "def matrix_to_quaternion(M: torch.Tensor) -> torch.Tensor:\n",
        "    \"\"\"\n",
        "    Matrix-to-quaternion conversion method. Equation taken from\n",
        "    https://www.euclideanspace.com/maths/geometry/rotations/conversions/matrixToQuaternion/index.htm\n",
        "    Args:\n",
        "        M: rotation matrices, (3 x 3)\n",
        "    Returns:\n",
        "        q: quaternion of shape (4)\n",
        "    \"\"\"\n",
        "    tr = 1 + M[ 0, 0] + M[ 1, 1] + M[ 2, 2]\n",
        "\n",
        "    if tr > 0:\n",
        "        r = torch.sqrt(tr) / 2.0\n",
        "        x = ( M[ 2, 1] - M[ 1, 2] ) / ( 4 * r )\n",
        "        y = ( M[ 0, 2] - M[ 2, 0] ) / ( 4 * r )\n",
        "        z = ( M[ 1, 0] - M[ 0, 1] ) / ( 4 * r )\n",
        "    elif ( M[ 0, 0] > M[ 1, 1]) and (M[ 0, 0] > M[ 2, 2]):\n",
        "        S = torch.sqrt(1.0 + M[ 0, 0] - M[ 1, 1] - M[ 2, 2]) * 2 # S=4*qx\n",
        "        r = (M[ 2, 1] - M[ 1, 2]) / S\n",
        "        x = 0.25 * S\n",
        "        y = (M[ 0, 1] + M[ 1, 0]) / S\n",
        "        z = (M[ 0, 2] + M[ 2, 0]) / S\n",
        "    elif M[ 1, 1] > M[ 2, 2]:\n",
        "        S = torch.sqrt(1.0 + M[ 1, 1] - M[ 0, 0] - M[ 2, 2]) * 2 # S=4*qy\n",
        "        r = (M[ 0, 2] - M[ 2, 0]) / S\n",
        "        x = (M[ 0, 1] + M[ 1, 0]) / S\n",
        "        y = 0.25 * S\n",
        "        z = (M[ 1, 2] + M[ 2, 1]) / S\n",
        "    else:\n",
        "        S = torch.sqrt(1.0 + M[ 2, 2] - M[ 0, 0] -  M[ 1, 1]) * 2 # S=4*qz\n",
        "        r = (M[ 1, 0] - M[ 0, 1]) / S\n",
        "        x = (M[ 0, 2] + M[ 2, 0]) / S\n",
        "        y = (M[ 1, 2] + M[ 2, 1]) / S\n",
        "        z = 0.25 * S\n",
        "\n",
        "    return torch.stack([r, x, y, z], dim=-1)\n",
        "\n",
        "def getProjectionMatrix(znear, zfar, fovX, fovY):\n",
        "    tanHalfFovY = math.tan((fovY / 2))\n",
        "    tanHalfFovX = math.tan((fovX / 2))\n",
        "\n",
        "    top = tanHalfFovY * znear\n",
        "    bottom = -top\n",
        "    right = tanHalfFovX * znear\n",
        "    left = -right\n",
        "\n",
        "    P = torch.zeros(4, 4)\n",
        "\n",
        "    z_sign = 1.0\n",
        "\n",
        "    P[0, 0] = 2.0 * znear / (right - left)\n",
        "    P[1, 1] = 2.0 * znear / (top - bottom)\n",
        "    P[0, 2] = (right + left) / (right - left)\n",
        "    P[1, 2] = (top + bottom) / (top - bottom)\n",
        "    P[3, 2] = z_sign\n",
        "    P[2, 2] = z_sign * zfar / (zfar - znear)\n",
        "    P[2, 3] = -(zfar * znear) / (zfar - znear)\n",
        "    return P\n",
        "\n",
        "def get_loop_cameras(num_imgs_in_loop, radius=2.0,\n",
        "                     max_elevation=np.pi/6, elevation_freq=0.5,\n",
        "                     azimuth_freq=2.0):\n",
        "\n",
        "    all_cameras_c2w_cmo = []\n",
        "\n",
        "    for i in range(num_imgs_in_loop):\n",
        "        azimuth_angle = np.pi * 2 * azimuth_freq * i / num_imgs_in_loop\n",
        "        elevation_angle = max_elevation * np.sin(\n",
        "            np.pi * i * 2 * elevation_freq / num_imgs_in_loop)\n",
        "        x = np.cos(azimuth_angle) * radius * np.cos(elevation_angle)\n",
        "        y = np.sin(azimuth_angle) * radius * np.cos(elevation_angle)\n",
        "        z = np.sin(elevation_angle) * radius\n",
        "\n",
        "        camera_T_c2w = np.array([x, y, z], dtype=np.float32)\n",
        "\n",
        "        # in COLMAP / OpenCV convention: z away from camera, y down, x right\n",
        "        camera_z = - camera_T_c2w / radius\n",
        "        up = np.array([0, 0, -1], dtype=np.float32)\n",
        "        camera_x = np.cross(up, camera_z)\n",
        "        camera_x = camera_x / np.linalg.norm(camera_x)\n",
        "        camera_y = np.cross(camera_z, camera_x)\n",
        "\n",
        "        camera_c2w_cmo = np.hstack([camera_x[:, None],\n",
        "                                    camera_y[:, None],\n",
        "                                    camera_z[:, None],\n",
        "                                    camera_T_c2w[:, None]])\n",
        "        camera_c2w_cmo = np.vstack([camera_c2w_cmo, np.array([0, 0, 0, 1], dtype=np.float32)[None, :]])\n",
        "\n",
        "        all_cameras_c2w_cmo.append(camera_c2w_cmo)\n",
        "\n",
        "    return all_cameras_c2w_cmo"
      ]
    },
    {
      "cell_type": "markdown",
      "source": [
        "# Directories & downloading data"
      ],
      "metadata": {
        "id": "0BEEGAed16Hw"
      }
    },
    {
      "cell_type": "code",
      "source": [
        "# roots\n",
        "LOCAL_ROOT = \"/content/local\"\n",
        "GDRIVE_ROOT = \"/content/drive/MyDrive/MVP_Project\" # Shared folder in gdrive\n",
        "\n",
        "# Configure where we read/write files.\n",
        "# By default, use a google drive folder.\n",
        "GDRIVE_ENABLED = True\n",
        "GDRIVE_CACHE_DATASET_ZIP = GDRIVE_ENABLED and True\n",
        "FORCE_EXTRACT = False\n",
        "\n",
        "# Only mount google drive if it is required\n",
        "if GDRIVE_ENABLED:\n",
        "    drive.mount(\"/content/drive/\")\n",
        "\n",
        "# Base directory for project files. Within this directory we have a file structure:\n",
        "#   /cache/$DATA_CATEGORY.zip              (cache of dataset zip download)\n",
        "#   /pre-trained/$DATA_CATEGORY.$MODEL.pt  (pre-trained model)\n",
        "#   /outputs/$DATA_CATEGORY.$MODEL.psnrs.csv\n",
        "#   /outputs/$DATA_CATEGORY.$MODEL.mean_psnrs.csv\n",
        "PROJECT_ROOT = GDRIVE_ROOT if GDRIVE_ENABLED else LOCAL_ROOT\n",
        "\n",
        "CACHE_ROOT = os.path.join(PROJECT_ROOT, \"cache\")\n",
        "LOCAL_CACHE_ROOT = os.path.join(LOCAL_ROOT, \"cache\")\n",
        "PRE_TRAINED_ROOT = os.path.join(PROJECT_ROOT, \"pre-trained\")\n",
        "OUTPUTS_ROOT = os.path.join(PROJECT_ROOT, \"outputs\")\n",
        "\n",
        "for dir in [CACHE_ROOT, LOCAL_CACHE_ROOT, PRE_TRAINED_ROOT, OUTPUTS_ROOT]:\n",
        "    os.makedirs(dir, exist_ok=True)\n",
        "\n",
        "# dataset paths\n",
        "SHAPENET_ZIP_PATH = os.path.join(CACHE_ROOT, f\"srn_{data_category}.zip\")\n",
        "# the dataset zip file is always extracted to local storage for performance.\n",
        "SHAPENET_DATASET_ROOT = os.path.join(LOCAL_CACHE_ROOT, f\"srn_{data_category}\")\n",
        "\n",
        "print(\"Using the following dataset configuration:\")\n",
        "print(f\"- data_category: {data_category}\")\n",
        "print(f\"- PROJECT_ROOT: {PROJECT_ROOT}\")\n",
        "print(f\"- SHAPENET_ZIP_PATH: {SHAPENET_ZIP_PATH}\")\n",
        "print(f\"- SHAPENET_DATASET_ROOT: {SHAPENET_DATASET_ROOT}\")"
      ],
      "metadata": {
        "colab": {
          "base_uri": "https://localhost:8080/"
        },
        "id": "pjq-NYT2vvDd",
        "outputId": "d3648c44-8b0b-4165-ce87-c6dd01bf9ddd"
      },
      "execution_count": null,
      "outputs": [
        {
          "output_type": "stream",
          "name": "stdout",
          "text": [
            "Mounted at /content/drive/\n",
            "Using the following dataset configuration:\n",
            "- data_category: chairs\n",
            "- PROJECT_ROOT: /content/drive/MyDrive/MVP_Project\n",
            "- SHAPENET_ZIP_PATH: /content/drive/MyDrive/MVP_Project/cache/srn_chairs.zip\n",
            "- SHAPENET_DATASET_ROOT: /content/local/cache/srn_chairs\n"
          ]
        }
      ]
    },
    {
      "cell_type": "code",
      "execution_count": null,
      "metadata": {
        "id": "spBbzwW8i_eu",
        "colab": {
          "base_uri": "https://localhost:8080/"
        },
        "outputId": "ddce50f1-8242-4410-be68-9f81903dd14a"
      },
      "outputs": [
        {
          "output_type": "stream",
          "name": "stdout",
          "text": [
            "Extracting cached dataset file...\n"
          ]
        }
      ],
      "source": [
        "# Download and extract ShapeNET dataset\n",
        "if not os.path.exists(SHAPENET_DATASET_ROOT) or FORCE_EXTRACT:\n",
        "    if not os.path.exists(SHAPENET_ZIP_PATH):\n",
        "        print(f\"Caching dataset zip file: {GDOWN_URL}...\")\n",
        "        # download if missing\n",
        "        !gdown -O $SHAPENET_ZIP_PATH $GDOWN_URL\n",
        "\n",
        "    # unzip if root dir doesn't exist\n",
        "    print(\"Extracting cached dataset file...\")\n",
        "    !unzip -qq -n $SHAPENET_ZIP_PATH -d $SHAPENET_DATASET_ROOT"
      ]
    },
    {
      "cell_type": "markdown",
      "source": [
        "# Dataset"
      ],
      "metadata": {
        "id": "oT1P2TTl2Hpi"
      }
    },
    {
      "cell_type": "markdown",
      "source": [
        "## Dataset class definitions"
      ],
      "metadata": {
        "id": "DXnVrz3J2My_"
      }
    },
    {
      "cell_type": "code",
      "execution_count": null,
      "metadata": {
        "id": "ytWJC8aL_siM"
      },
      "outputs": [],
      "source": [
        "class CameraInfo(NamedTuple):\n",
        "    uid: int\n",
        "    R: np.array\n",
        "    T: np.array\n",
        "    FovY: np.array\n",
        "    FovX: np.array\n",
        "    image: np.array\n",
        "    image_path: str\n",
        "    image_name: str\n",
        "    width: int\n",
        "    height: int\n",
        "\n",
        "class SharedDataset(Dataset):\n",
        "    def __init__(self) -> None:\n",
        "        super().__init__()\n",
        "\n",
        "    def make_poses_relative_to_first(self, images_and_camera_poses):\n",
        "        inverse_first_camera = images_and_camera_poses[\"world_view_transforms\"][0].inverse().clone()\n",
        "        for c in range(images_and_camera_poses[\"world_view_transforms\"].shape[0]):\n",
        "            images_and_camera_poses[\"world_view_transforms\"][c] = torch.bmm(\n",
        "                                                inverse_first_camera.unsqueeze(0),\n",
        "                                                images_and_camera_poses[\"world_view_transforms\"][c].unsqueeze(0)).squeeze(0)\n",
        "            images_and_camera_poses[\"view_to_world_transforms\"][c] = torch.bmm(\n",
        "                                                images_and_camera_poses[\"view_to_world_transforms\"][c].unsqueeze(0),\n",
        "                                                inverse_first_camera.inverse().unsqueeze(0)).squeeze(0)\n",
        "            images_and_camera_poses[\"full_proj_transforms\"][c] = torch.bmm(\n",
        "                                                inverse_first_camera.unsqueeze(0),\n",
        "                                                images_and_camera_poses[\"full_proj_transforms\"][c].unsqueeze(0)).squeeze(0)\n",
        "            images_and_camera_poses[\"camera_centers\"][c] = images_and_camera_poses[\"world_view_transforms\"][c].inverse()[3, :3]\n",
        "        return images_and_camera_poses\n",
        "\n",
        "    def get_source_cw2wT(self, source_cameras_view_to_world):\n",
        "        qs = []\n",
        "        for c_idx in range(source_cameras_view_to_world.shape[0]):\n",
        "            qs.append(matrix_to_quaternion(source_cameras_view_to_world[c_idx, :3, :3].transpose(0, 1)))\n",
        "        return torch.stack(qs, dim=0)\n",
        "\n",
        "    def readCamerasFromTxt(self, rgb_paths, pose_paths, idxs):\n",
        "        cam_infos = []\n",
        "        # Transform fov from degrees to radians\n",
        "        fovx = 51.98948897809546 * 2 * np.pi / 360\n",
        "\n",
        "        for idx in idxs:\n",
        "            cam_name = pose_paths[idx]\n",
        "            # SRN cameras are camera-to-world transforms\n",
        "            # no need to change from SRN camera axes (x right, y down, z away)\n",
        "            # it's the same as COLMAP (x right, y down, z forward)\n",
        "            c2w = np.loadtxt(cam_name, dtype=np.float32).reshape(4, 4)\n",
        "\n",
        "            # get the world-to-camera transform and set R, T\n",
        "            w2c = np.linalg.inv(c2w)\n",
        "            R = np.transpose(w2c[:3,:3])  # R is stored transposed due to 'glm' in CUDA code\n",
        "            T = w2c[:3, 3]\n",
        "\n",
        "            image_path = rgb_paths[idx]\n",
        "            image_name = Path(cam_name).stem\n",
        "            # SRN images already are RGB with white background\n",
        "            image = Image.open(image_path)\n",
        "\n",
        "            fovy = focal2fov(fov2focal(fovx, image.size[0]), image.size[1])\n",
        "            FovY = fovy\n",
        "            FovX = fovx\n",
        "\n",
        "            cam_infos.append(CameraInfo(uid=idx, R=R, T=T, FovY=FovY, FovX=FovX, image=image,\n",
        "                            image_path=image_path, image_name=image_name, width=image.size[0], height=image.size[1]))\n",
        "\n",
        "        return cam_infos"
      ]
    },
    {
      "cell_type": "code",
      "execution_count": null,
      "metadata": {
        "id": "df6T9fZrtFAa"
      },
      "outputs": [],
      "source": [
        "class SRNDataset(SharedDataset):\n",
        "    def __init__(self, dataset_name=\"train\"):\n",
        "        super().__init__()\n",
        "\n",
        "        self.dataset_name = dataset_name\n",
        "        if dataset_name == \"vis\":\n",
        "            self.dataset_name = \"test\"\n",
        "\n",
        "        self.base_path = os.path.join(SHAPENET_DATASET_ROOT, \"{}_{}\".format(data_category, self.dataset_name))\n",
        "\n",
        "        print(f\"Initialising SRN dataset at {self.base_path}\")\n",
        "\n",
        "        if data_category == \"chairs\" and dataset_name == \"train\":\n",
        "            # Ugly thing from SRN's public dataset\n",
        "            tmp = os.path.join(self.base_path, \"chairs_2.0_train\")\n",
        "            if os.path.exists(tmp):\n",
        "                self.base_path = tmp\n",
        "\n",
        "        self.intrins = sorted(glob.glob(os.path.join(self.base_path, \"*\", \"intrinsics.txt\")))\n",
        "\n",
        "        self.projection_matrix = getProjectionMatrix(\n",
        "            znear=data_znear, zfar=data_zfar,\n",
        "            fovX=data_fov * 2 * np.pi / 360,\n",
        "            fovY=data_fov * 2 * np.pi / 360).transpose(0,1)\n",
        "\n",
        "        self.imgs_per_obj = 4\n",
        "        self.test_input_idxs = [64]\n",
        "\n",
        "    def __len__(self):\n",
        "        return len(self.intrins)\n",
        "\n",
        "    def load_example_id(self, example_id, intrin_path, trans = np.array([0.0, 0.0, 0.0]), scale=1.0):\n",
        "        dir_path = os.path.dirname(intrin_path)\n",
        "        rgb_paths = sorted(glob.glob(os.path.join(dir_path, \"rgb\", \"*\")))\n",
        "        pose_paths = sorted(glob.glob(os.path.join(dir_path, \"pose\", \"*\")))\n",
        "        assert len(rgb_paths) == len(pose_paths)\n",
        "\n",
        "        if not hasattr(self, \"all_rgbs\"):\n",
        "            self.all_rgbs = {}\n",
        "            self.all_world_view_transforms = {}\n",
        "            self.all_view_to_world_transforms = {}\n",
        "            self.all_full_proj_transforms = {}\n",
        "            self.all_camera_centers = {}\n",
        "\n",
        "        if example_id not in self.all_rgbs.keys():\n",
        "            self.all_rgbs[example_id] = []\n",
        "            self.all_world_view_transforms[example_id] = []\n",
        "            self.all_full_proj_transforms[example_id] = []\n",
        "            self.all_camera_centers[example_id] = []\n",
        "            self.all_view_to_world_transforms[example_id] = []\n",
        "\n",
        "            cam_infos = self.readCamerasFromTxt(rgb_paths, pose_paths, [i for i in range(len(rgb_paths))])\n",
        "\n",
        "            for cam_info in cam_infos:\n",
        "                R = cam_info.R\n",
        "                T = cam_info.T\n",
        "\n",
        "                self.all_rgbs[example_id].append(PILtoTorch(cam_info.image, (data_resolution, data_resolution)).clamp(0.0, 1.0)[:3, :, :])\n",
        "\n",
        "                world_view_transform = torch.tensor(getWorld2View2(R, T, trans, scale)).transpose(0, 1)\n",
        "                view_world_transform = torch.tensor(getView2World(R, T, trans, scale)).transpose(0, 1)\n",
        "\n",
        "                full_proj_transform = (world_view_transform.unsqueeze(0).bmm(self.projection_matrix.unsqueeze(0))).squeeze(0)\n",
        "                camera_center = world_view_transform.inverse()[3, :3]\n",
        "\n",
        "                self.all_world_view_transforms[example_id].append(world_view_transform)\n",
        "                self.all_view_to_world_transforms[example_id].append(view_world_transform)\n",
        "                self.all_full_proj_transforms[example_id].append(full_proj_transform)\n",
        "                self.all_camera_centers[example_id].append(camera_center)\n",
        "\n",
        "            self.all_world_view_transforms[example_id] = torch.stack(self.all_world_view_transforms[example_id])\n",
        "            self.all_view_to_world_transforms[example_id] = torch.stack(self.all_view_to_world_transforms[example_id])\n",
        "            self.all_full_proj_transforms[example_id] = torch.stack(self.all_full_proj_transforms[example_id])\n",
        "            self.all_camera_centers[example_id] = torch.stack(self.all_camera_centers[example_id])\n",
        "            self.all_rgbs[example_id] = torch.stack(self.all_rgbs[example_id])\n",
        "\n",
        "    def get_example_id(self, index):\n",
        "        intrin_path = self.intrins[index]\n",
        "        example_id = os.path.basename(os.path.dirname(intrin_path))\n",
        "        return example_id\n",
        "\n",
        "    def __getitem__(self, index):\n",
        "        intrin_path = self.intrins[index]\n",
        "        example_id = os.path.basename(os.path.dirname(intrin_path))\n",
        "\n",
        "        self.load_example_id(example_id, intrin_path)\n",
        "        if self.dataset_name == \"train\":\n",
        "            frame_idxs = torch.randperm(len(self.all_rgbs[example_id]))[:self.imgs_per_obj]\n",
        "            frame_idxs = torch.cat([frame_idxs[:1], frame_idxs], dim=0)\n",
        "\n",
        "        else:\n",
        "            input_idxs = self.test_input_idxs\n",
        "            frame_idxs = torch.cat([torch.tensor(input_idxs), torch.tensor([i for i in range(251) if i not in input_idxs])], dim=0)\n",
        "\n",
        "        images_and_camera_poses = {\n",
        "            \"gt_images\": self.all_rgbs[example_id][frame_idxs].clone(),\n",
        "            \"world_view_transforms\": self.all_world_view_transforms[example_id][frame_idxs],\n",
        "            \"view_to_world_transforms\": self.all_view_to_world_transforms[example_id][frame_idxs],\n",
        "            \"full_proj_transforms\": self.all_full_proj_transforms[example_id][frame_idxs],\n",
        "            \"camera_centers\": self.all_camera_centers[example_id][frame_idxs]\n",
        "        }\n",
        "\n",
        "        images_and_camera_poses = self.make_poses_relative_to_first(images_and_camera_poses)\n",
        "        images_and_camera_poses[\"source_cv2wT_quat\"] = self.get_source_cw2wT(images_and_camera_poses[\"view_to_world_transforms\"])\n",
        "\n",
        "        return images_and_camera_poses"
      ]
    },
    {
      "cell_type": "markdown",
      "source": [
        "## Train / test / vis split"
      ],
      "metadata": {
        "id": "L9qmNzJP2QKi"
      }
    },
    {
      "cell_type": "code",
      "source": [
        "# Training Data\n",
        "dataset = SRNDataset(\"train\")\n",
        "dataloader = DataLoader(dataset,\n",
        "                        batch_size=batch_size,\n",
        "                        shuffle=True)\n",
        "dataloader = fabric.setup_dataloaders(dataloader)\n",
        "\n",
        "# Testing Data\n",
        "val_dataset = SRNDataset(\"val\")\n",
        "val_dataloader = DataLoader(val_dataset,\n",
        "                            batch_size=1,\n",
        "                            shuffle=False,\n",
        "                            num_workers=1,\n",
        "                            persistent_workers=True,\n",
        "                            pin_memory=True)\n",
        "val_dataloader = fabric.setup_dataloaders(val_dataloader)\n",
        "\n",
        "# Visualisation / Hyperparameter Adjusting Data\n",
        "vis_dataset = SRNDataset(\"vis\")\n",
        "vis_dataloader = DataLoader(vis_dataset,\n",
        "                            batch_size=1,\n",
        "                            shuffle=False)\n",
        "vis_dataloader = fabric.setup_dataloaders(vis_dataloader)"
      ],
      "metadata": {
        "colab": {
          "base_uri": "https://localhost:8080/"
        },
        "id": "bObTO-Y-lUMB",
        "outputId": "4231e927-605d-4139-ee74-1b05f3eafb07"
      },
      "execution_count": null,
      "outputs": [
        {
          "output_type": "stream",
          "name": "stdout",
          "text": [
            "Initialising SRN dataset at /content/local/cache/srn_chairs/chairs_train\n",
            "Initialising SRN dataset at /content/local/cache/srn_chairs/chairs_val\n",
            "Initialising SRN dataset at /content/local/cache/srn_chairs/chairs_test\n"
          ]
        }
      ]
    },
    {
      "cell_type": "markdown",
      "source": [
        "# Base model"
      ],
      "metadata": {
        "id": "6ud1MkdY2lwF"
      }
    },
    {
      "cell_type": "markdown",
      "metadata": {
        "id": "aj0bhaQTOhm6"
      },
      "source": [
        "## Gaussian Renderer"
      ]
    },
    {
      "cell_type": "code",
      "execution_count": null,
      "metadata": {
        "id": "3nLR2wLlOnH_"
      },
      "outputs": [],
      "source": [
        "def render_predicted(\n",
        "    pc: dict,\n",
        "    world_view_transform,\n",
        "    full_proj_transform,\n",
        "    camera_center,\n",
        "    bg_color: torch.Tensor,\n",
        "    max_sh_degree=1,\n",
        "    scaling_modifier=1.0,\n",
        "    override_color=None,\n",
        "    focals_pixels=None,\n",
        "):\n",
        "    # Create zero tensor. We will use it to make pytorch return gradients of the 2D (screen-space) means\n",
        "    screenspace_points = (\n",
        "        torch.zeros_like(\n",
        "            pc[\"xyz\"],\n",
        "            dtype=pc[\"xyz\"].dtype,\n",
        "            requires_grad=True,\n",
        "            device=pc[\"xyz\"].device,\n",
        "        )\n",
        "        + 0\n",
        "    )\n",
        "    try:\n",
        "        screenspace_points.retain_grad()\n",
        "    except:\n",
        "        pass\n",
        "\n",
        "    if focals_pixels == None:\n",
        "        tanfovx = math.tan(data_fov * np.pi / 360)\n",
        "        tanfovy = math.tan(data_fov * np.pi / 360)\n",
        "    else:\n",
        "        tanfovx = math.tan(\n",
        "            0.5 * focal2fov(focals_pixels[0].item(), data_resolution)\n",
        "        )\n",
        "        tanfovy = math.tan(\n",
        "            0.5 * focal2fov(focals_pixels[1].item(), data_resolution)\n",
        "        )\n",
        "\n",
        "    # Set up rasterization configuration\n",
        "    raster_settings = GaussianRasterizationSettings(\n",
        "        image_height=int(data_resolution),\n",
        "        image_width=int(data_resolution),\n",
        "        tanfovx=tanfovx,\n",
        "        tanfovy=tanfovy,\n",
        "        bg=bg_color,\n",
        "        scale_modifier=scaling_modifier,\n",
        "        viewmatrix=world_view_transform,\n",
        "        projmatrix=full_proj_transform,\n",
        "        sh_degree=max_sh_degree,\n",
        "        campos=camera_center,\n",
        "        prefiltered=False,\n",
        "        debug=False,\n",
        "        antialiasing=False,\n",
        "    )\n",
        "\n",
        "    rasterizer = GaussianRasterizer(raster_settings=raster_settings)\n",
        "\n",
        "    means3D = pc[\"xyz\"]\n",
        "    means2D = screenspace_points\n",
        "    opacity = pc[\"opacity\"]\n",
        "\n",
        "    # If precomputed 3d covariance is provided, use it. If not, then it will be computed from\n",
        "    # scaling / rotation by the rasterizer.\n",
        "    scales = None\n",
        "    rotations = None\n",
        "    cov3D_precomp = None\n",
        "\n",
        "    scales = pc[\"scaling\"]\n",
        "    rotations = pc[\"rotation\"]\n",
        "\n",
        "    # If precomputed colors are provided, use them. Otherwise, if it is desired to precompute colors\n",
        "    # from SHs in Python, do it. If not, then SH -> RGB conversion will be done by rasterizer.\n",
        "    shs = None\n",
        "    colors_precomp = None\n",
        "    if override_color is None:\n",
        "        if \"features_rest\" in pc.keys():\n",
        "            shs = torch.cat(\n",
        "                [pc[\"features_dc\"], pc[\"features_rest\"]], dim=1\n",
        "            ).contiguous()\n",
        "        else:\n",
        "            shs = pc[\"features_dc\"]\n",
        "    else:\n",
        "        colors_precomp = override_color\n",
        "\n",
        "    # Rasterize visible Gaussians to image, obtain their radii (on screen).\n",
        "    rendered_image, radii, _ = rasterizer(\n",
        "        means3D=means3D,\n",
        "        means2D=means2D,\n",
        "        shs=shs,\n",
        "        colors_precomp=colors_precomp,\n",
        "        opacities=opacity,\n",
        "        scales=scales,\n",
        "        rotations=rotations,\n",
        "        cov3D_precomp=cov3D_precomp,\n",
        "    )\n",
        "\n",
        "    # Those Gaussians that were frustum culled or had a radius of 0 were not visible.\n",
        "    # They will be excluded from value updates used in the splitting criteria.\n",
        "    return {\n",
        "        \"render\": rendered_image,\n",
        "        \"viewspace_points\": screenspace_points,\n",
        "        \"visibility_filter\": radii > 0,\n",
        "        \"radii\": radii,\n",
        "    }"
      ]
    },
    {
      "cell_type": "markdown",
      "source": [
        "## U-Net"
      ],
      "metadata": {
        "id": "G4RntDADYixZ"
      }
    },
    {
      "cell_type": "code",
      "execution_count": null,
      "metadata": {
        "id": "ADIBb31aUoZv"
      },
      "outputs": [],
      "source": [
        "# U-Net implementation from EDM\n",
        "# Copyright (c) 2022, NVIDIA CORPORATION & AFFILIATES. All rights reserved.\n",
        "#\n",
        "# This work is licensed under a Creative Commons\n",
        "# Attribution-NonCommercial-ShareAlike 4.0 International License.\n",
        "# You should have received a copy of the license along with this\n",
        "# work. If not, see http://creativecommons.org/licenses/by-nc-sa/4.0/\n",
        "\n",
        "\"\"\"Model architectures and preconditioning schemes used in the paper\n",
        "\"Elucidating the Design Space of Diffusion-Based Generative Models\".\"\"\"\n",
        "\n",
        "#----------------------------------------------------------------------------\n",
        "# Unified routine for initializing weights and biases.\n",
        "\n",
        "def weight_init(shape, mode, fan_in, fan_out):\n",
        "    if mode == 'xavier_uniform': return np.sqrt(6 / (fan_in + fan_out)) * (torch.rand(*shape) * 2 - 1)\n",
        "    if mode == 'xavier_normal':  return np.sqrt(2 / (fan_in + fan_out)) * torch.randn(*shape)\n",
        "    if mode == 'kaiming_uniform': return np.sqrt(3 / fan_in) * (torch.rand(*shape) * 2 - 1)\n",
        "    if mode == 'kaiming_normal':  return np.sqrt(1 / fan_in) * torch.randn(*shape)\n",
        "    raise ValueError(f'Invalid init mode \"{mode}\"')\n",
        "\n",
        "#----------------------------------------------------------------------------\n",
        "# Fully-connected layer.\n",
        "\n",
        "class Linear(torch.nn.Module):\n",
        "    def __init__(self, in_features, out_features, bias=True, init_mode='kaiming_normal', init_weight=1, init_bias=0):\n",
        "        super().__init__()\n",
        "        self.in_features = in_features\n",
        "        self.out_features = out_features\n",
        "        init_kwargs = dict(mode=init_mode, fan_in=in_features, fan_out=out_features)\n",
        "        self.weight = torch.nn.Parameter(weight_init([out_features, in_features], **init_kwargs) * init_weight)\n",
        "        self.bias = torch.nn.Parameter(weight_init([out_features], **init_kwargs) * init_bias) if bias else None\n",
        "\n",
        "    def forward(self, x):\n",
        "        x = x @ self.weight.to(x.dtype).t()\n",
        "        if self.bias is not None:\n",
        "            x = x.add_(self.bias.to(x.dtype))\n",
        "        return x\n",
        "\n",
        "#----------------------------------------------------------------------------\n",
        "# Convolutional layer with optional up/downsampling.\n",
        "\n",
        "class Conv2d(torch.nn.Module):\n",
        "    def __init__(self,\n",
        "        in_channels, out_channels, kernel, bias=True, up=False, down=False,\n",
        "        resample_filter=[1,1], fused_resample=False, init_mode='kaiming_normal', init_weight=1, init_bias=0,\n",
        "    ):\n",
        "        assert not (up and down)\n",
        "        super().__init__()\n",
        "        self.in_channels = in_channels\n",
        "        self.out_channels = out_channels\n",
        "        self.up = up\n",
        "        self.down = down\n",
        "        self.fused_resample = fused_resample\n",
        "        init_kwargs = dict(mode=init_mode, fan_in=in_channels*kernel*kernel, fan_out=out_channels*kernel*kernel)\n",
        "        self.weight = torch.nn.Parameter(weight_init([out_channels, in_channels, kernel, kernel], **init_kwargs) * init_weight) if kernel else None\n",
        "        self.bias = torch.nn.Parameter(weight_init([out_channels], **init_kwargs) * init_bias) if kernel and bias else None\n",
        "        f = torch.as_tensor(resample_filter, dtype=torch.float32)\n",
        "        f = f.ger(f).unsqueeze(0).unsqueeze(1) / f.sum().square()\n",
        "        self.register_buffer('resample_filter', f if up or down else None)\n",
        "\n",
        "    def forward(self, x, N_views_xa=1):\n",
        "        w = self.weight.to(x.dtype) if self.weight is not None else None\n",
        "        b = self.bias.to(x.dtype) if self.bias is not None else None\n",
        "        f = self.resample_filter.to(x.dtype) if self.resample_filter is not None else None\n",
        "        w_pad = w.shape[-1] // 2 if w is not None else 0\n",
        "        f_pad = (f.shape[-1] - 1) // 2 if f is not None else 0\n",
        "\n",
        "        if self.fused_resample and self.up and w is not None:\n",
        "            x = torch.nn.functional.conv_transpose2d(x, f.mul(4).tile([self.in_channels, 1, 1, 1]), groups=self.in_channels, stride=2, padding=max(f_pad - w_pad, 0))\n",
        "            x = torch.nn.functional.conv2d(x, w, padding=max(w_pad - f_pad, 0))\n",
        "        elif self.fused_resample and self.down and w is not None:\n",
        "            x = torch.nn.functional.conv2d(x, w, padding=w_pad+f_pad)\n",
        "            x = torch.nn.functional.conv2d(x, f.tile([self.out_channels, 1, 1, 1]), groups=self.out_channels, stride=2)\n",
        "        else:\n",
        "            if self.up:\n",
        "                x = torch.nn.functional.conv_transpose2d(x, f.mul(4).tile([self.in_channels, 1, 1, 1]), groups=self.in_channels, stride=2, padding=f_pad)\n",
        "            if self.down:\n",
        "                x = torch.nn.functional.conv2d(x, f.tile([self.in_channels, 1, 1, 1]), groups=self.in_channels, stride=2, padding=f_pad)\n",
        "            if w is not None:\n",
        "                x = torch.nn.functional.conv2d(x, w, padding=w_pad)\n",
        "        if b is not None:\n",
        "            x = x.add_(b.reshape(1, -1, 1, 1))\n",
        "        return x\n",
        "\n",
        "#----------------------------------------------------------------------------\n",
        "# Group normalization.\n",
        "\n",
        "class GroupNorm(torch.nn.Module):\n",
        "    def __init__(self, num_channels, num_groups=32, min_channels_per_group=4, eps=1e-5):\n",
        "        super().__init__()\n",
        "        self.num_groups = min(num_groups, num_channels // min_channels_per_group)\n",
        "        self.eps = eps\n",
        "        self.weight = torch.nn.Parameter(torch.ones(num_channels))\n",
        "        self.bias = torch.nn.Parameter(torch.zeros(num_channels))\n",
        "\n",
        "    def forward(self, x, N_views_xa=1):\n",
        "        x = torch.nn.functional.group_norm(x, num_groups=self.num_groups, weight=self.weight.to(x.dtype), bias=self.bias.to(x.dtype), eps=self.eps)\n",
        "        return x.to(memory_format=torch.channels_last)\n",
        "\n",
        "#----------------------------------------------------------------------------\n",
        "# Attention weight computation, i.e., softmax(Q^T * K).\n",
        "# Performs all computation using FP32, but uses the original datatype for\n",
        "# inputs/outputs/gradients to conserve memory.\n",
        "\n",
        "class AttentionOp(torch.autograd.Function):\n",
        "    @staticmethod\n",
        "    def forward(ctx, q, k):\n",
        "        w = torch.einsum('ncq,nck->nqk', q.to(torch.float32), (k / np.sqrt(k.shape[1])).to(torch.float32)).softmax(dim=2).to(q.dtype)\n",
        "        ctx.save_for_backward(q, k, w)\n",
        "        return w\n",
        "\n",
        "    @staticmethod\n",
        "    def backward(ctx, dw):\n",
        "        q, k, w = ctx.saved_tensors\n",
        "        db = torch._softmax_backward_data(grad_output=dw.to(torch.float32), output=w.to(torch.float32), dim=2, input_dtype=torch.float32)\n",
        "        dq = torch.einsum('nck,nqk->ncq', k.to(torch.float32), db).to(q.dtype) / np.sqrt(k.shape[1])\n",
        "        dk = torch.einsum('ncq,nqk->nck', q.to(torch.float32), db).to(k.dtype) / np.sqrt(k.shape[1])\n",
        "        return dq, dk\n",
        "\n",
        "#----------------------------------------------------------------------------\n",
        "# Timestep embedding used in the DDPM++ and ADM architectures.\n",
        "\n",
        "class PositionalEmbedding(torch.nn.Module):\n",
        "    def __init__(self, num_channels, max_positions=10000, endpoint=False):\n",
        "        super().__init__()\n",
        "        self.num_channels = num_channels\n",
        "        self.max_positions = max_positions\n",
        "        self.endpoint = endpoint\n",
        "\n",
        "    def forward(self, x):\n",
        "        b, c = x.shape\n",
        "        x = rearrange(x, 'b c -> (b c)')\n",
        "        freqs = torch.arange(start=0, end=self.num_channels//2, dtype=torch.float32, device=x.device)\n",
        "        freqs = freqs / (self.num_channels // 2 - (1 if self.endpoint else 0))\n",
        "        freqs = (1 / self.max_positions) ** freqs\n",
        "        x = x.ger(freqs.to(x.dtype))\n",
        "        x = torch.cat([x.cos(), x.sin()], dim=1)\n",
        "        x = rearrange(x, '(b c) emb_ch -> b (c emb_ch)', b=b)\n",
        "        return x\n",
        "\n",
        "#----------------------------------------------------------------------------\n",
        "# Timestep embedding used in the NCSN++ architecture.\n",
        "\n",
        "class FourierEmbedding(torch.nn.Module):\n",
        "    def __init__(self, num_channels, scale=16):\n",
        "        super().__init__()\n",
        "        self.register_buffer('freqs', torch.randn(num_channels // 2) * scale)\n",
        "\n",
        "    def forward(self, x):\n",
        "        b, c = x.shape\n",
        "        x = rearrange(x, 'b c -> (b c)')\n",
        "        x = x.ger((2 * np.pi * self.freqs).to(x.dtype))\n",
        "        x = torch.cat([x.cos(), x.sin()], dim=1)\n",
        "        x = rearrange(x, '(b c) emb_ch -> b (c emb_ch)', b=b)\n",
        "        return x\n",
        "\n",
        "class CrossAttentionBlock(torch.nn.Module):\n",
        "    def __init__(self, num_channels, num_heads = 1, eps=1e-5):\n",
        "        super().__init__()\n",
        "\n",
        "        self.num_heads = 1\n",
        "        init_attn = dict(init_mode='xavier_uniform', init_weight=np.sqrt(0.2))\n",
        "        init_zero = dict(init_mode='xavier_uniform', init_weight=1e-5)\n",
        "\n",
        "        self.norm = GroupNorm(num_channels=num_channels, eps=eps)\n",
        "\n",
        "        self.q_proj = Conv2d(in_channels=num_channels, out_channels=num_channels, kernel=1, **init_attn)\n",
        "        self.kv_proj = Conv2d(in_channels=num_channels, out_channels=num_channels*2, kernel=1, **init_attn)\n",
        "\n",
        "        self.out_proj = Conv2d(in_channels=num_channels, out_channels=num_channels, kernel=3, **init_zero)\n",
        "\n",
        "    def forward(self, q, kv):\n",
        "        q_proj = self.q_proj(self.norm(q)).reshape(q.shape[0] * self.num_heads, q.shape[1] // self.num_heads, -1)\n",
        "        k_proj, v_proj = self.kv_proj(self.norm(kv)).reshape(kv.shape[0] * self.num_heads,\n",
        "                                                   kv.shape[1] // self.num_heads, 2, -1).unbind(2)\n",
        "        w = AttentionOp.apply(q_proj, k_proj)\n",
        "        a = torch.einsum('nqk,nck->ncq', w, v_proj)\n",
        "        x = self.out_proj(a.reshape(*q.shape)).add_(q)\n",
        "\n",
        "        return x\n",
        "\n",
        "#----------------------------------------------------------------------------\n",
        "# Unified U-Net block with optional up/downsampling and self-attention.\n",
        "# Represents the union of all features employed by the DDPM++, NCSN++, and\n",
        "# ADM architectures.\n",
        "\n",
        "class UNetBlock(torch.nn.Module):\n",
        "    def __init__(self,\n",
        "        in_channels, out_channels, emb_channels, up=False, down=False, attention=False,\n",
        "        num_heads=None, channels_per_head=64, dropout=0, skip_scale=1, eps=1e-5,\n",
        "        resample_filter=[1,1], resample_proj=False, adaptive_scale=True,\n",
        "        init=dict(), init_zero=dict(init_weight=0), init_attn=None,\n",
        "    ):\n",
        "        super().__init__()\n",
        "        self.in_channels = in_channels\n",
        "        self.out_channels = out_channels\n",
        "        if emb_channels is not None:\n",
        "            self.affine = Linear(in_features=emb_channels, out_features=out_channels*(2 if adaptive_scale else 1), **init)\n",
        "        self.num_heads = 0 if not attention else num_heads if num_heads is not None else out_channels // channels_per_head\n",
        "        self.dropout = dropout\n",
        "        self.skip_scale = skip_scale\n",
        "        self.adaptive_scale = adaptive_scale\n",
        "\n",
        "        self.norm0 = GroupNorm(num_channels=in_channels, eps=eps)\n",
        "        self.conv0 = Conv2d(in_channels=in_channels, out_channels=out_channels, kernel=3, up=up, down=down, resample_filter=resample_filter, **init)\n",
        "        self.norm1 = GroupNorm(num_channels=out_channels, eps=eps)\n",
        "        self.conv1 = Conv2d(in_channels=out_channels, out_channels=out_channels, kernel=3, **init_zero)\n",
        "\n",
        "        self.skip = None\n",
        "        if out_channels != in_channels or up or down:\n",
        "            kernel = 1 if resample_proj or out_channels!= in_channels else 0\n",
        "            self.skip = Conv2d(in_channels=in_channels, out_channels=out_channels, kernel=kernel, up=up, down=down, resample_filter=resample_filter, **init)\n",
        "\n",
        "        if self.num_heads:\n",
        "            self.norm2 = GroupNorm(num_channels=out_channels, eps=eps)\n",
        "            self.qkv = Conv2d(in_channels=out_channels, out_channels=out_channels*3, kernel=1, **(init_attn if init_attn is not None else init))\n",
        "            self.proj = Conv2d(in_channels=out_channels, out_channels=out_channels, kernel=1, **init_zero)\n",
        "\n",
        "    def forward(self, x, emb=None, N_views_xa=1):\n",
        "        orig = x\n",
        "        x = self.conv0(silu(self.norm0(x)))\n",
        "\n",
        "        if emb is not None:\n",
        "            params = self.affine(emb).unsqueeze(2).unsqueeze(3).to(x.dtype)\n",
        "            if self.adaptive_scale:\n",
        "                scale, shift = params.chunk(chunks=2, dim=1)\n",
        "                x = silu(torch.addcmul(shift, self.norm1(x), scale + 1))\n",
        "            else:\n",
        "                x = silu(self.norm1(x.add_(params)))\n",
        "\n",
        "        x = silu(self.norm1(x))\n",
        "\n",
        "        x = self.conv1(torch.nn.functional.dropout(x, p=self.dropout, training=self.training))\n",
        "        x = x.add_(self.skip(orig) if self.skip is not None else orig)\n",
        "        x = x * self.skip_scale\n",
        "\n",
        "        if self.num_heads:\n",
        "            if N_views_xa != 1:\n",
        "                B, C, H, W = x.shape\n",
        "                # (B, C, H, W) -> (B/N, N, C, H, W) -> (B/N, N, H, W, C)\n",
        "                x = x.reshape(B // N_views_xa, N_views_xa, *x.shape[1:]).permute(0, 1, 3, 4, 2)\n",
        "                # (B/N, N, H, W, C) -> (B/N, N*H, W, C) -> (B/N, C, N*H, W)\n",
        "                x = x.reshape(B // N_views_xa, N_views_xa * x.shape[2], *x.shape[3:]).permute(0, 3, 1, 2)\n",
        "            q, k, v = self.qkv(self.norm2(x)).reshape(x.shape[0] * self.num_heads, x.shape[1] // self.num_heads, 3, -1).unbind(2)\n",
        "            w = AttentionOp.apply(q, k)\n",
        "            a = torch.einsum('nqk,nck->ncq', w, v)\n",
        "            x = self.proj(a.reshape(*x.shape)).add_(x)\n",
        "            x = x * self.skip_scale\n",
        "            if N_views_xa != 1:\n",
        "                # (B/N, C, N*H, W) -> (B/N, N*H, W, C)\n",
        "                x = x.permute(0, 2, 3, 1)\n",
        "                # (B/N, N*H, W, C) -> (B/N, N, H, W, C) -> (B/N, N, C, H, W)\n",
        "                x = x.reshape(B // N_views_xa, N_views_xa, H, W, C).permute(0, 1, 4, 2, 3)\n",
        "                # (B/N, N, C, H, W) -> # (B, C, H, W)\n",
        "                x = x.reshape(B, C, H, W)\n",
        "        return x\n",
        "\n",
        "\n",
        "#----------------------------------------------------------------------------\n",
        "# Reimplementation of the DDPM++ and NCSN++ architectures from the paper\n",
        "# \"Score-Based Generative Modeling through Stochastic Differential\n",
        "# Equations\". Equivalent to the original implementation by Song et al.,\n",
        "# available at https://github.com/yang-song/score_sde_pytorch\n",
        "# taken from EDM repository https://github.com/NVlabs/edm/blob/main/training/networks.py#L372\n",
        "\n",
        "class SongUNet(nn.Module):\n",
        "    def __init__(self,\n",
        "        img_resolution,                     # Image resolution at input/output.\n",
        "        in_channels,                        # Number of color channels at input.\n",
        "        out_channels,                       # Number of color channels at output.\n",
        "        emb_dim_in          = 0,            # Input embedding dim.\n",
        "        augment_dim         = 0,            # Augmentation label dimensionality, 0 = no augmentation.\n",
        "\n",
        "        model_channels      = 128,          # Base multiplier for the number of channels.\n",
        "        channel_mult        = [1,2,2,2],    # Per-resolution multipliers for the number of channels.\n",
        "        channel_mult_emb    = 4,            # Multiplier for the dimensionality of the embedding vector.\n",
        "        num_blocks          = 4,            # Number of residual blocks per resolution.\n",
        "        attn_resolutions    = [16],         # List of resolutions with self-attention.\n",
        "        dropout             = 0.10,         # Dropout probability of intermediate activations.\n",
        "        label_dropout       = 0,            # Dropout probability of class labels for classifier-free guidance.\n",
        "\n",
        "        embedding_type      = 'positional', # Timestep embedding type: 'positional' for DDPM++, 'fourier' for NCSN++.\n",
        "        channel_mult_noise  = 0,            # Timestep embedding size: 1 for DDPM++, 2 for NCSN++.\n",
        "        encoder_type        = 'standard',   # Encoder architecture: 'standard' for DDPM++, 'residual' for NCSN++.\n",
        "        decoder_type        = 'standard',   # Decoder architecture: 'standard' for both DDPM++ and NCSN++.\n",
        "        resample_filter     = [1,1],        # Resampling filter: [1,1] for DDPM++, [1,3,3,1] for NCSN++.\n",
        "    ):\n",
        "        assert embedding_type in ['fourier', 'positional']\n",
        "        assert encoder_type in ['standard', 'skip', 'residual']\n",
        "        assert decoder_type in ['standard', 'skip']\n",
        "\n",
        "        super().__init__()\n",
        "        self.label_dropout = label_dropout\n",
        "        self.emb_dim_in = emb_dim_in\n",
        "        if emb_dim_in > 0:\n",
        "            emb_channels = model_channels * channel_mult_emb\n",
        "        else:\n",
        "            emb_channels = None\n",
        "        noise_channels = model_channels * channel_mult_noise\n",
        "        init = dict(init_mode='xavier_uniform')\n",
        "        init_zero = dict(init_mode='xavier_uniform', init_weight=1e-5)\n",
        "        init_attn = dict(init_mode='xavier_uniform', init_weight=np.sqrt(0.2))\n",
        "        block_kwargs = dict(\n",
        "            emb_channels=emb_channels, num_heads=1, dropout=dropout, skip_scale=np.sqrt(0.5), eps=1e-6,\n",
        "            resample_filter=resample_filter, resample_proj=True, adaptive_scale=False,\n",
        "            init=init, init_zero=init_zero, init_attn=init_attn,\n",
        "        )\n",
        "\n",
        "        # Mapping.\n",
        "        # self.map_label = Linear(in_features=label_dim, out_features=noise_channels, **init) if label_dim else None\n",
        "        # self.map_augment = Linear(in_features=augment_dim, out_features=noise_channels, bias=False, **init) if augment_dim else None\n",
        "        # self.map_layer0 = Linear(in_features=noise_channels, out_features=emb_channels, **init)\n",
        "        # self.map_layer1 = Linear(in_features=emb_channels, out_features=emb_channels, **init)\n",
        "        if emb_dim_in > 0:\n",
        "            self.map_layer0 = Linear(in_features=emb_dim_in, out_features=emb_channels, **init)\n",
        "            self.map_layer1 = Linear(in_features=emb_channels, out_features=emb_channels, **init)\n",
        "\n",
        "        if noise_channels > 0:\n",
        "            self.noise_map_layer0 = Linear(in_features=noise_channels, out_features=emb_channels, **init)\n",
        "            self.noise_map_layer1 = Linear(in_features=emb_channels, out_features=emb_channels, **init)\n",
        "\n",
        "        # Encoder.\n",
        "        self.enc = torch.nn.ModuleDict()\n",
        "        cout = in_channels\n",
        "        caux = in_channels\n",
        "        for level, mult in enumerate(channel_mult):\n",
        "            res = img_resolution >> level\n",
        "            if level == 0:\n",
        "                cin = cout\n",
        "                cout = model_channels\n",
        "                self.enc[f'{res}x{res}_conv'] = Conv2d(in_channels=cin, out_channels=cout, kernel=3, **init)\n",
        "            else:\n",
        "                self.enc[f'{res}x{res}_down'] = UNetBlock(in_channels=cout, out_channels=cout, down=True, **block_kwargs)\n",
        "                if encoder_type == 'skip':\n",
        "                    self.enc[f'{res}x{res}_aux_down'] = Conv2d(in_channels=caux, out_channels=caux, kernel=0, down=True, resample_filter=resample_filter)\n",
        "                    self.enc[f'{res}x{res}_aux_skip'] = Conv2d(in_channels=caux, out_channels=cout, kernel=1, **init)\n",
        "                if encoder_type == 'residual':\n",
        "                    self.enc[f'{res}x{res}_aux_residual'] = Conv2d(in_channels=caux, out_channels=cout, kernel=3, down=True, resample_filter=resample_filter, fused_resample=True, **init)\n",
        "                    caux = cout\n",
        "            for idx in range(num_blocks):\n",
        "                cin = cout\n",
        "                cout = model_channels * mult\n",
        "                attn = (res in attn_resolutions)\n",
        "                self.enc[f'{res}x{res}_block{idx}'] = UNetBlock(in_channels=cin, out_channels=cout, attention=attn, **block_kwargs)\n",
        "        skips = [block.out_channels for name, block in self.enc.items() if 'aux' not in name]\n",
        "\n",
        "        # Decoder.\n",
        "        self.dec = torch.nn.ModuleDict()\n",
        "        for level, mult in reversed(list(enumerate(channel_mult))):\n",
        "            res = img_resolution >> level\n",
        "            if level == len(channel_mult) - 1:\n",
        "                self.dec[f'{res}x{res}_in0'] = UNetBlock(in_channels=cout, out_channels=cout, attention=True, **block_kwargs)\n",
        "                self.dec[f'{res}x{res}_in1'] = UNetBlock(in_channels=cout, out_channels=cout, **block_kwargs)\n",
        "            else:\n",
        "                self.dec[f'{res}x{res}_up'] = UNetBlock(in_channels=cout, out_channels=cout, up=True, **block_kwargs)\n",
        "            for idx in range(num_blocks + 1):\n",
        "                cin = cout + skips.pop()\n",
        "                cout = model_channels * mult\n",
        "                attn = (idx == num_blocks and res in attn_resolutions)\n",
        "                self.dec[f'{res}x{res}_block{idx}'] = UNetBlock(in_channels=cin, out_channels=cout, attention=attn, **block_kwargs)\n",
        "            if decoder_type == 'skip' or level == 0:\n",
        "                if decoder_type == 'skip' and level < len(channel_mult) - 1:\n",
        "                    self.dec[f'{res}x{res}_aux_up'] = Conv2d(in_channels=out_channels, out_channels=out_channels, kernel=0, up=True, resample_filter=resample_filter)\n",
        "                self.dec[f'{res}x{res}_aux_norm'] = GroupNorm(num_channels=cout, eps=1e-6)\n",
        "                self.dec[f'{res}x{res}_aux_conv'] = Conv2d(in_channels=cout, out_channels=out_channels, kernel=3, init_weight=0.2, **init)# init_zero)\n",
        "\n",
        "    def forward(self, x, film_camera_emb=None, N_views_xa=1):\n",
        "        emb = None\n",
        "\n",
        "        if film_camera_emb is not None:\n",
        "            if self.emb_dim_in != 1:\n",
        "                film_camera_emb = film_camera_emb.reshape(\n",
        "                    film_camera_emb.shape[0], 2, -1).flip(1).reshape(*film_camera_emb.shape) # swap sin/cos\n",
        "            film_camera_emb = silu(self.map_layer0(film_camera_emb))\n",
        "            film_camera_emb = silu(self.map_layer1(film_camera_emb))\n",
        "            emb = film_camera_emb\n",
        "\n",
        "        # Encoder.\n",
        "        skips = []\n",
        "        aux = x\n",
        "        for name, block in self.enc.items():\n",
        "            if 'aux_down' in name:\n",
        "                aux = block(aux, N_views_xa)\n",
        "            elif 'aux_skip' in name:\n",
        "                x = skips[-1] = x + block(aux, N_views_xa)\n",
        "            elif 'aux_residual' in name:\n",
        "                x = skips[-1] = aux = (x + block(aux, N_views_xa)) / np.sqrt(2)\n",
        "            else:\n",
        "                x = block(x, emb=emb, N_views_xa=N_views_xa) if isinstance(block, UNetBlock) \\\n",
        "                    else block(x, N_views_xa=N_views_xa)\n",
        "                skips.append(x)\n",
        "\n",
        "        # Decoder.\n",
        "        aux = None\n",
        "        tmp = None\n",
        "        for name, block in self.dec.items():\n",
        "            if 'aux_up' in name:\n",
        "                aux = block(aux, N_views_xa)\n",
        "            elif 'aux_norm' in name:\n",
        "                tmp = block(x, N_views_xa)\n",
        "            elif 'aux_conv' in name:\n",
        "                tmp = block(silu(tmp), N_views_xa)\n",
        "                aux = tmp if aux is None else tmp + aux\n",
        "            else:\n",
        "                if x.shape[1] != block.in_channels:\n",
        "                    # skip connection is pixel-aligned which is good for\n",
        "                    # foreground features\n",
        "                    # but it's not good for gradient flow and background features\n",
        "                    x = torch.cat([x, skips.pop()], dim=1)\n",
        "                x = block(x, emb=emb, N_views_xa=N_views_xa)\n",
        "        return aux"
      ]
    },
    {
      "cell_type": "code",
      "execution_count": null,
      "metadata": {
        "id": "D-VpSPgb7eaV"
      },
      "outputs": [],
      "source": [
        "class SingleImageSongUNetPredictor(nn.Module):\n",
        "    def __init__(self, out_channels, bias, scale, base_dim, num_blocks):\n",
        "        super(SingleImageSongUNetPredictor, self).__init__()\n",
        "        self.out_channels = out_channels\n",
        "        in_channels = 3\n",
        "        emb_dim_in = 0\n",
        "\n",
        "        self.encoder = SongUNet(data_resolution,\n",
        "                                in_channels,\n",
        "                                sum(out_channels),\n",
        "                                model_channels=base_dim,\n",
        "                                num_blocks=num_blocks,\n",
        "                                emb_dim_in=emb_dim_in,\n",
        "                                channel_mult_noise=0,\n",
        "                                attn_resolutions=[16])\n",
        "        self.out = nn.Conv2d(in_channels=sum(out_channels),\n",
        "                             out_channels=sum(out_channels),\n",
        "                             kernel_size=1)\n",
        "\n",
        "        start_channels = 0\n",
        "        for out_channel, b, s in zip(out_channels, bias, scale):\n",
        "            nn.init.xavier_uniform_(self.out.weight[start_channels:start_channels+out_channel, :, :, :], s)\n",
        "            nn.init.constant_(self.out.bias[start_channels:start_channels+out_channel], b)\n",
        "            start_channels += out_channel\n",
        "\n",
        "    def forward(self, x, film_camera_emb=None, N_views_xa=1):\n",
        "        x = self.encoder(x, film_camera_emb=film_camera_emb, N_views_xa=N_views_xa)\n",
        "        return self.out(x)"
      ]
    },
    {
      "cell_type": "markdown",
      "metadata": {
        "id": "jZ_FAWIzTsJi"
      },
      "source": [
        "## Gaussian Predictor"
      ]
    },
    {
      "cell_type": "code",
      "execution_count": null,
      "metadata": {
        "id": "u6i20vZi6kcV"
      },
      "outputs": [],
      "source": [
        "class GaussianSplatPredictor(nn.Module):\n",
        "    def __init__(self, base_dim):\n",
        "        super(GaussianSplatPredictor, self).__init__()\n",
        "\n",
        "        # Model Constants\n",
        "        self.base_dim = base_dim\n",
        "        self.num_blocks = 4\n",
        "\n",
        "        self.split_dimensions, scale_inits, bias_inits = self.get_splits_and_inits()\n",
        "        self.network_with_offset = SingleImageSongUNetPredictor(\n",
        "            self.split_dimensions,\n",
        "            scale=scale_inits,\n",
        "            bias=bias_inits,\n",
        "            base_dim=self.base_dim,\n",
        "            num_blocks=self.num_blocks\n",
        "        )\n",
        "\n",
        "        self.init_ray_dirs()\n",
        "\n",
        "        # Activation functions for different parameters\n",
        "        self.depth_activation = nn.Sigmoid()\n",
        "        self.opacity_activation = torch.sigmoid\n",
        "        self.scaling_activation = torch.exp\n",
        "        self.rotation_activation = torch.nn.functional.normalize\n",
        "\n",
        "        self.init_sh_transform_matrices()\n",
        "\n",
        "    # =============== Initialisation Functions ================\n",
        "    def get_splits_and_inits(self):\n",
        "        # Gets channel split dimensions and last layer initialisation\n",
        "        split_dimensions = []\n",
        "        scale_inits = []\n",
        "        bias_inits = []\n",
        "\n",
        "        # depth, offset, opacity, scaling, rotation, degree_0_harmonics, degree_1_harmonics\n",
        "        split_dimensions = [1, 3, 1, 3, 4, 3, 9]\n",
        "        scale_inits = [depth_scale, xyz_scale, opacity_scale, scale_scale, 1.0, 5.0, 0.0]\n",
        "        bias_inits = [depth_bias, xyz_bias, opacity_bias, np.log(scale_bias), 0.0, 0.0, 0.0]\n",
        "\n",
        "        return split_dimensions, scale_inits, bias_inits\n",
        "\n",
        "    def init_ray_dirs(self):\n",
        "        # Create input ray directions (1, 3, H, W)\n",
        "        x = torch.linspace(-data_resolution // 2 + 0.5,\n",
        "                            data_resolution // 2 - 0.5,\n",
        "                            data_resolution)\n",
        "        y = torch.linspace( data_resolution // 2 - 0.5,\n",
        "                           -data_resolution // 2 + 0.5,\n",
        "                            data_resolution)\n",
        "        y = -y\n",
        "        grid_x, grid_y = torch.meshgrid(x, y, indexing='xy')\n",
        "        ones = torch.ones_like(grid_x, dtype=grid_x.dtype)\n",
        "        ray_dirs = torch.stack([grid_x, grid_y, ones]).unsqueeze(0)\n",
        "        ray_dirs[:, :2, ...] /= fov2focal(data_fov * np.pi / 180, data_resolution)\n",
        "        self.register_buffer('ray_dirs', ray_dirs)\n",
        "\n",
        "    def init_sh_transform_matrices(self):\n",
        "        v_to_sh_transform = torch.tensor([[ 0, 0,-1],\n",
        "                                          [-1, 0, 0],\n",
        "                                          [ 0, 1, 0]], dtype=torch.float32)\n",
        "        sh_to_v_transform = v_to_sh_transform.transpose(0, 1)\n",
        "        self.register_buffer('sh_to_v_transform', sh_to_v_transform.unsqueeze(0))\n",
        "        self.register_buffer('v_to_sh_transform', v_to_sh_transform.unsqueeze(0))\n",
        "\n",
        "    # =============== Activation Functions ================\n",
        "    def get_pos_from_network_output(self, depth_network, offset):\n",
        "        # depth_nework: B x 1 x H x W\n",
        "        # offset: B x 3 x H x W\n",
        "        # expands ray dirs along the batch dimension B x 3 x H x W\n",
        "        ray_dirs_xy = self.ray_dirs.expand(depth_network.shape[0], 3, *self.ray_dirs.shape[2:])\n",
        "        depth = self.depth_activation(depth_network) * (data_zfar - data_znear) + data_znear\n",
        "\n",
        "        return ray_dirs_xy * depth + offset\n",
        "\n",
        "    def transform_rotations(self, rotations, source_cameras_view_to_world_quat):\n",
        "        # Rotates the predicted rotations from camera space to world space.\n",
        "        # rotations: predicted rotation quaternions (B x N x 4)\n",
        "        # source_cameras_to_world_quat: transformation quaternions (B x 4)\n",
        "        Mq = source_cameras_view_to_world_quat.unsqueeze(1).expand(*rotations.shape)\n",
        "\n",
        "        return quaternion_raw_multiply(Mq, rotations)\n",
        "\n",
        "    def transform_SHs(self, shs, source_cameras_to_world):\n",
        "        # shs: B x N x 3 x 3\n",
        "        # source_cameras_to_world: B x 4 x 4\n",
        "        shs = rearrange(shs, 'b n sh_num rgb -> b (n rgb) sh_num')\n",
        "        transforms = torch.bmm(\n",
        "            self.sh_to_v_transform.expand(source_cameras_to_world.shape[0], 3, 3),\n",
        "            # transpose is because source_cameras_to_world is\n",
        "            # in row major order\n",
        "            source_cameras_to_world[:, :3, :3])\n",
        "        transforms = torch.bmm(transforms,\n",
        "            self.v_to_sh_transform.expand(source_cameras_to_world.shape[0], 3, 3))\n",
        "\n",
        "        shs_transformed = torch.bmm(shs, transforms)\n",
        "        shs_transformed = rearrange(shs_transformed, 'b (n rgb) sh_num -> b n sh_num rgb', rgb=3)\n",
        "\n",
        "        return shs_transformed\n",
        "\n",
        "    # =============== Utility ================\n",
        "    def flatten_vector(self, x):\n",
        "        # Gets rid of the image dimensions and flattens to a point list\n",
        "        # B x C x H x W -> B x C x N -> B x N x C\n",
        "        return x.reshape(x.shape[0], x.shape[1], -1).permute(0, 2, 1)\n",
        "\n",
        "    def make_contiguous(self, tensor_dict):\n",
        "        return {k: v.contiguous() for k, v in tensor_dict.items()}\n",
        "\n",
        "    # =============== Outward Functions ================\n",
        "    def parameters(self):\n",
        "        return self.network_with_offset.parameters()\n",
        "\n",
        "    def forward(self, x, source_cameras_view_to_world, source_cameras_view_to_world_quat):\n",
        "        x = x.contiguous(memory_format=torch.channels_last)\n",
        "\n",
        "        depth, offset, opacity, scaling, rotation, features_dc, features_rest = self.network_with_offset(x).split(self.split_dimensions, dim=1)\n",
        "        out_dict = {}\n",
        "\n",
        "        # Transform position to world space\n",
        "        pos = self.get_pos_from_network_output(depth, offset)\n",
        "        pos = self.flatten_vector(pos)\n",
        "        pos = torch.cat([pos, torch.ones((pos.shape[0], pos.shape[1], 1), device=pos.device, dtype=torch.float32)], dim=2)\n",
        "        pos = torch.bmm(pos, source_cameras_view_to_world)\n",
        "        pos = pos[:, :, :3] / (pos[:, :, 3:] + 1e-10)\n",
        "\n",
        "        out_dict[\"xyz\"] = pos\n",
        "        out_dict[\"opacity\"] = self.flatten_vector(self.opacity_activation(opacity))\n",
        "        out_dict[\"scaling\"] = self.flatten_vector(self.scaling_activation(scaling))\n",
        "        out_dict[\"rotation\"] = self.transform_rotations(self.flatten_vector(self.rotation_activation(rotation)), source_cameras_view_to_world_quat)\n",
        "        out_dict[\"features_dc\"] = self.flatten_vector(features_dc).unsqueeze(2)\n",
        "\n",
        "        # Split channel dimension B * 9 * H * W -> B x N x 9 -> B x N x 3 x 3\n",
        "        features_rest = self.flatten_vector(features_rest)\n",
        "        out_dict[\"features_rest\"] = features_rest.reshape(*features_rest.shape[:2], -1, 3)\n",
        "        out_dict[\"features_rest\"] = self.transform_SHs(out_dict[\"features_rest\"], source_cameras_view_to_world)\n",
        "\n",
        "        out_dict = self.make_contiguous(out_dict)\n",
        "\n",
        "        return out_dict"
      ]
    },
    {
      "cell_type": "markdown",
      "source": [
        "# Multi-scale extensions to model"
      ],
      "metadata": {
        "id": "6A3I2lae2qaV"
      }
    },
    {
      "cell_type": "markdown",
      "source": [
        "## Sobel Filtering"
      ],
      "metadata": {
        "id": "D2Uf3FmbwePZ"
      }
    },
    {
      "cell_type": "code",
      "source": [
        "class SobelMask(torch.nn.Module):\n",
        "    \"\"\"\n",
        "    Filter and masking layer initialised to the Sobel filter.\n",
        "    \"\"\"\n",
        "\n",
        "    def __init__(self, threshold=0.0):\n",
        "        super().__init__()\n",
        "        self.threshold = threshold\n",
        "        self.vsobel = torch.nn.Conv2d(3, 3, kernel_size=3, stride=1, padding=1, groups=3, bias=False)\n",
        "        self.hsobel = torch.nn.Conv2d(3, 3, kernel_size=3, stride=1, padding=1, groups=3, bias=False)\n",
        "\n",
        "        # initialize kernels to sobel filter\n",
        "        vsobel_kernel = torch.tensor([[[\n",
        "            [-1.0, 0.0, 1.0],\n",
        "            [-2.0, 0.0, 2.0],\n",
        "            [-1.0, 0.0, 1.0]\n",
        "        ]]])\n",
        "        hsobel_kernel = torch.tensor([[[\n",
        "            [-1.0, -2.0, -1.0],\n",
        "            [0.0, 0.0, 0.0],\n",
        "            [1.0, 2.0, 1.0]\n",
        "        ]]])\n",
        "\n",
        "        # this is cursed but im not sure how else to make batching work\n",
        "        self.vsobel.weight.data = vsobel_kernel.view(1, 1, 3, 3).repeat(3, 1, 1, 1)\n",
        "        self.hsobel.weight.data = hsobel_kernel.view(1, 1, 3, 3).repeat(3, 1, 1, 1)\n",
        "\n",
        "    def forward(self, image):\n",
        "        sobel_h = self.hsobel(image)\n",
        "        sobel_v = self.vsobel(image)\n",
        "        x = torch.sqrt(sobel_h**2 + sobel_v**2)\n",
        "\n",
        "        # normalise and threshold\n",
        "        x_min, x_max = x.min(), x.max()\n",
        "        x = (x - x_min) / (x_max - x_min)\n",
        "        x = (x > self.threshold).float()\n",
        "\n",
        "        return image * x + (1 - x)\n",
        "\n",
        "class SobelMaskPool(torch.nn.Module):\n",
        "    def __init__(self, size=2):\n",
        "        super().__init__()\n",
        "        self.size = size\n",
        "        self.thresholds = torch.linspace(0.0, 0.25, self.size)\n",
        "        self.layers = torch.nn.ModuleList([SobelMask(threshold=threshold) for threshold in self.thresholds])"
      ],
      "metadata": {
        "id": "OPqyIV51NLy_"
      },
      "execution_count": null,
      "outputs": []
    },
    {
      "cell_type": "code",
      "source": [
        "data = next(iter(vis_dataloader))\n",
        "r_idx = 0\n",
        "\n",
        "gt_image = data[\"gt_images\"][0, r_idx].cpu()\n",
        "\n",
        "sobel_filter = SobelMask(threshold=0.25)\n",
        "sobel_filter.eval()\n",
        "gt_image_filtered = sobel_filter.forward(gt_image)\n",
        "\n",
        "images_side_by_side(gt_image_filtered, gt_image, \"Filtered Image (Sobel Mask)\")"
      ],
      "metadata": {
        "id": "IF6GluWpRbvc",
        "colab": {
          "base_uri": "https://localhost:8080/"
        },
        "outputId": "a2ea342f-c1a7-4782-b14c-0e81ef2b9573"
      },
      "execution_count": null,
      "outputs": [
        {
          "output_type": "display_data",
          "data": {
            "text/plain": [
              "<Figure size 640x480 with 2 Axes>"
            ],
            "image/png": "[encoded data removed]"
          },
          "metadata": {}
        }
      ]
    },
    {
      "cell_type": "markdown",
      "source": [
        "## Extended Gaussian Predictor"
      ],
      "metadata": {
        "id": "IJquWnvZ8QPp"
      }
    },
    {
      "cell_type": "code",
      "source": [
        "class GaussianPredictorPool(torch.nn.Module):\n",
        "    def __init__(self, size, total_dim, state_dict=None):\n",
        "        super().__init__()\n",
        "        self.size = size\n",
        "        self.base_dim = total_dim // self.size\n",
        "        self.layers = torch.nn.ModuleList([GaussianSplatPredictor(self.base_dim) for _ in range(self.size)])\n",
        "\n",
        "        if state_dict is not None:\n",
        "            assert self.base_dim == 128\n",
        "            for layer in self.layers:\n",
        "                layer.load_state_dict(state_dict)"
      ],
      "metadata": {
        "id": "ISrPapWgM8gw"
      },
      "execution_count": null,
      "outputs": []
    },
    {
      "cell_type": "code",
      "source": [
        "class MultiGaussianSplatPredictor(nn.Module):\n",
        "    def __init__(self, parallel_models=4, total_dim=128, scaling_factor=4, state_dict=None):\n",
        "        super(MultiGaussianSplatPredictor, self).__init__()\n",
        "\n",
        "        self.parallel_models = parallel_models\n",
        "        self.total_dim = total_dim\n",
        "\n",
        "        self.sobel_masks = SobelMaskPool(size=self.parallel_models)\n",
        "        self.gaussian_models = GaussianPredictorPool(size=self.parallel_models, total_dim=self.total_dim, state_dict=state_dict)\n",
        "        self.scaling_frequencies = [1 / (scaling_factor**i) for i in range(self.parallel_models)]\n",
        "\n",
        "    def forward(self, x, source_cameras_view_to_world, source_cameras_view_to_world_quat):\n",
        "        out_dict = {}\n",
        "        gaussian_splats_list = []\n",
        "\n",
        "        iter = zip(self.sobel_masks.layers, self.gaussian_models.layers, self.scaling_frequencies)\n",
        "        for sobel_layer, gaussian_layer, frequency in iter:\n",
        "            x_filtered = sobel_layer(x)\n",
        "            gaussian_splats = gaussian_layer(\n",
        "                x_filtered,\n",
        "                source_cameras_view_to_world,\n",
        "                source_cameras_view_to_world_quat,\n",
        "            )\n",
        "            gaussian_splats[\"scaling\"] = gaussian_splats[\"scaling\"] * frequency\n",
        "            gaussian_splats[\"opacity\"] = gaussian_splats[\"opacity\"] * (1 / self.parallel_models)\n",
        "            gaussian_splats_list.append(gaussian_splats)\n",
        "\n",
        "        # Transform (P x key x B x N x ...) into (key x B x N*P x ...)\n",
        "        for k, v in gaussian_splats_list[0].items():\n",
        "            out_dict[k] = torch.cat([gaussian_splats[k] for gaussian_splats in gaussian_splats_list], dim=1)\n",
        "\n",
        "        return out_dict"
      ],
      "metadata": {
        "id": "6uxAmaIO8VHF"
      },
      "execution_count": null,
      "outputs": []
    },
    {
      "cell_type": "markdown",
      "metadata": {
        "id": "jfUHDZlYRFbS"
      },
      "source": [
        "# Training"
      ]
    },
    {
      "cell_type": "markdown",
      "source": [
        "## Loss functions"
      ],
      "metadata": {
        "id": "GXNc7Vd020UK"
      }
    },
    {
      "cell_type": "code",
      "execution_count": null,
      "metadata": {
        "id": "q-w0KTIy29fy",
        "colab": {
          "base_uri": "https://localhost:8080/"
        },
        "outputId": "ef788a49-a027-4be6-aa59-79da4aa4fbb1"
      },
      "outputs": [
        {
          "output_type": "stream",
          "name": "stdout",
          "text": [
            "Setting up [LPIPS] perceptual loss: trunk [vgg], v[0.1], spatial [off]\n"
          ]
        },
        {
          "output_type": "stream",
          "name": "stderr",
          "text": [
            "/usr/local/lib/python3.10/dist-packages/torchvision/models/_utils.py:208: UserWarning: The parameter 'pretrained' is deprecated since 0.13 and may be removed in the future, please use 'weights' instead.\n",
            "  warnings.warn(\n",
            "/usr/local/lib/python3.10/dist-packages/torchvision/models/_utils.py:223: UserWarning: Arguments other than a weight enum or `None` for 'weights' are deprecated since 0.13 and may be removed in the future. The current behavior is equivalent to passing `weights=VGG16_Weights.IMAGENET1K_V1`. You can also use `weights=VGG16_Weights.DEFAULT` to get the most up-to-date weights.\n",
            "  warnings.warn(msg)\n",
            "Downloading: \"https://download.pytorch.org/models/vgg16-397923af.pth\" to /root/.cache/torch/hub/checkpoints/vgg16-397923af.pth\n",
            "100%|██████████| 528M/528M [00:02<00:00, 222MB/s]\n"
          ]
        },
        {
          "output_type": "stream",
          "name": "stdout",
          "text": [
            "Loading model from: /usr/local/lib/python3.10/dist-packages/lpips/weights/v0.1/vgg.pth\n"
          ]
        },
        {
          "output_type": "stream",
          "name": "stderr",
          "text": [
            "/usr/local/lib/python3.10/dist-packages/lpips/lpips.py:107: FutureWarning: You are using `torch.load` with `weights_only=False` (the current default value), which uses the default pickle module implicitly. It is possible to construct malicious pickle data which will execute arbitrary code during unpickling (See https://github.com/pytorch/pytorch/blob/main/SECURITY.md#untrusted-models for more details). In a future release, the default value for `weights_only` will be flipped to `True`. This limits the functions that could be executed during unpickling. Arbitrary objects will no longer be allowed to be loaded via this mode unless they are explicitly allowlisted by the user via `torch.serialization.add_safe_globals`. We recommend you start setting `weights_only=True` for any use case where you don't have full control of the loaded file. Please open an issue on GitHub for any issues related to this experimental feature.\n",
            "  self.load_state_dict(torch.load(model_path, map_location='cpu'), strict=False)\n"
          ]
        }
      ],
      "source": [
        "def l1_loss(network_output, gt):\n",
        "    return torch.abs((network_output - gt)).mean()\n",
        "\n",
        "def l2_loss(network_output, gt):\n",
        "    return ((network_output - gt) ** 2).mean()\n",
        "\n",
        "lpips_net = fabric.to_device(lpips_lib.LPIPS(net=\"vgg\"))\n",
        "\n",
        "def lpips_loss(network_output, gt):\n",
        "    return torch.mean(lpips_net(network_output * 2 - 1, gt * 2 - 1))\n",
        "\n",
        "def psnr(network_output, gt):\n",
        "    return -10 * torch.log10(torch.mean((network_output - gt) ** 2, dim=[0, 1, 2])).item()"
      ]
    },
    {
      "cell_type": "markdown",
      "source": [
        "## Setup"
      ],
      "metadata": {
        "id": "EPWdOHA624Z7"
      }
    },
    {
      "cell_type": "code",
      "execution_count": null,
      "metadata": {
        "id": "0p7TEWfDxO_Q"
      },
      "outputs": [],
      "source": [
        "# Setup Gaussian Predictor (base)\n",
        "base_gaussian_predictor = GaussianSplatPredictor(128).to(memory_format=torch.channels_last)\n",
        "base_optimizer = torch.optim.Adam(params=base_gaussian_predictor.parameters(), lr=learning_rate, eps=1e-15, betas=betas)\n",
        "\n",
        "base_gaussian_predictor, base_optimizer = fabric.setup(base_gaussian_predictor, base_optimizer)\n",
        "\n",
        "if fabric.is_global_zero:\n",
        "    ema = EMA(base_gaussian_predictor, beta=0.9999, update_every=10, update_after_step=100)\n",
        "    ema = fabric.to_device(ema)"
      ]
    },
    {
      "cell_type": "code",
      "source": [
        "# Setup Gaussian Predictor (paper weights)\n",
        "paper_gaussian_predictor = GaussianSplatPredictor(128).to(memory_format=torch.channels_last)\n",
        "fabric.setup(paper_gaussian_predictor)"
      ],
      "metadata": {
        "id": "vgPbjyL_FwEA",
        "colab": {
          "base_uri": "https://localhost:8080/"
        },
        "outputId": "96b42c1c-f9ad-47e8-ce76-01b7839ad002",
        "collapsed": true
      },
      "execution_count": null,
      "outputs": [
        {
          "output_type": "execute_result",
          "data": {
            "text/plain": [
              "_FabricModule(\n",
              "  (_forward_module): GaussianSplatPredictor(\n",
              "    (network_with_offset): SingleImageSongUNetPredictor(\n",
              "      (encoder): SongUNet(\n",
              "        (enc): ModuleDict(\n",
              "          (128x128_conv): Conv2d()\n",
              "          (128x128_block0): UNetBlock(\n",
              "            (norm0): GroupNorm()\n",
              "            (conv0): Conv2d()\n",
              "            (norm1): GroupNorm()\n",
              "            (conv1): Conv2d()\n",
              "          )\n",
              "          (128x128_block1): UNetBlock(\n",
              "            (norm0): GroupNorm()\n",
              "            (conv0): Conv2d()\n",
              "            (norm1): GroupNorm()\n",
              "            (conv1): Conv2d()\n",
              "          )\n",
              "          (128x128_block2): UNetBlock(\n",
              "            (norm0): GroupNorm()\n",
              "            (conv0): Conv2d()\n",
              "            (norm1): GroupNorm()\n",
              "            (conv1): Conv2d()\n",
              "          )\n",
              "          (128x128_block3): UNetBlock(\n",
              "            (norm0): GroupNorm()\n",
              "            (conv0): Conv2d()\n",
              "            (norm1): GroupNorm()\n",
              "            (conv1): Conv2d()\n",
              "          )\n",
              "          (64x64_down): UNetBlock(\n",
              "            (norm0): GroupNorm()\n",
              "            (conv0): Conv2d()\n",
              "            (norm1): GroupNorm()\n",
              "            (conv1): Conv2d()\n",
              "            (skip): Conv2d()\n",
              "          )\n",
              "          (64x64_block0): UNetBlock(\n",
              "            (norm0): GroupNorm()\n",
              "            (conv0): Conv2d()\n",
              "            (norm1): GroupNorm()\n",
              "            (conv1): Conv2d()\n",
              "            (skip): Conv2d()\n",
              "          )\n",
              "          (64x64_block1): UNetBlock(\n",
              "            (norm0): GroupNorm()\n",
              "            (conv0): Conv2d()\n",
              "            (norm1): GroupNorm()\n",
              "            (conv1): Conv2d()\n",
              "          )\n",
              "          (64x64_block2): UNetBlock(\n",
              "            (norm0): GroupNorm()\n",
              "            (conv0): Conv2d()\n",
              "            (norm1): GroupNorm()\n",
              "            (conv1): Conv2d()\n",
              "          )\n",
              "          (64x64_block3): UNetBlock(\n",
              "            (norm0): GroupNorm()\n",
              "            (conv0): Conv2d()\n",
              "            (norm1): GroupNorm()\n",
              "            (conv1): Conv2d()\n",
              "          )\n",
              "          (32x32_down): UNetBlock(\n",
              "            (norm0): GroupNorm()\n",
              "            (conv0): Conv2d()\n",
              "            (norm1): GroupNorm()\n",
              "            (conv1): Conv2d()\n",
              "            (skip): Conv2d()\n",
              "          )\n",
              "          (32x32_block0): UNetBlock(\n",
              "            (norm0): GroupNorm()\n",
              "            (conv0): Conv2d()\n",
              "            (norm1): GroupNorm()\n",
              "            (conv1): Conv2d()\n",
              "          )\n",
              "          (32x32_block1): UNetBlock(\n",
              "            (norm0): GroupNorm()\n",
              "            (conv0): Conv2d()\n",
              "            (norm1): GroupNorm()\n",
              "            (conv1): Conv2d()\n",
              "          )\n",
              "          (32x32_block2): UNetBlock(\n",
              "            (norm0): GroupNorm()\n",
              "            (conv0): Conv2d()\n",
              "            (norm1): GroupNorm()\n",
              "            (conv1): Conv2d()\n",
              "          )\n",
              "          (32x32_block3): UNetBlock(\n",
              "            (norm0): GroupNorm()\n",
              "            (conv0): Conv2d()\n",
              "            (norm1): GroupNorm()\n",
              "            (conv1): Conv2d()\n",
              "          )\n",
              "          (16x16_down): UNetBlock(\n",
              "            (norm0): GroupNorm()\n",
              "            (conv0): Conv2d()\n",
              "            (norm1): GroupNorm()\n",
              "            (conv1): Conv2d()\n",
              "            (skip): Conv2d()\n",
              "          )\n",
              "          (16x16_block0): UNetBlock(\n",
              "            (norm0): GroupNorm()\n",
              "            (conv0): Conv2d()\n",
              "            (norm1): GroupNorm()\n",
              "            (conv1): Conv2d()\n",
              "            (norm2): GroupNorm()\n",
              "            (qkv): Conv2d()\n",
              "            (proj): Conv2d()\n",
              "          )\n",
              "          (16x16_block1): UNetBlock(\n",
              "            (norm0): GroupNorm()\n",
              "            (conv0): Conv2d()\n",
              "            (norm1): GroupNorm()\n",
              "            (conv1): Conv2d()\n",
              "            (norm2): GroupNorm()\n",
              "            (qkv): Conv2d()\n",
              "            (proj): Conv2d()\n",
              "          )\n",
              "          (16x16_block2): UNetBlock(\n",
              "            (norm0): GroupNorm()\n",
              "            (conv0): Conv2d()\n",
              "            (norm1): GroupNorm()\n",
              "            (conv1): Conv2d()\n",
              "            (norm2): GroupNorm()\n",
              "            (qkv): Conv2d()\n",
              "            (proj): Conv2d()\n",
              "          )\n",
              "          (16x16_block3): UNetBlock(\n",
              "            (norm0): GroupNorm()\n",
              "            (conv0): Conv2d()\n",
              "            (norm1): GroupNorm()\n",
              "            (conv1): Conv2d()\n",
              "            (norm2): GroupNorm()\n",
              "            (qkv): Conv2d()\n",
              "            (proj): Conv2d()\n",
              "          )\n",
              "        )\n",
              "        (dec): ModuleDict(\n",
              "          (16x16_in0): UNetBlock(\n",
              "            (norm0): GroupNorm()\n",
              "            (conv0): Conv2d()\n",
              "            (norm1): GroupNorm()\n",
              "            (conv1): Conv2d()\n",
              "            (norm2): GroupNorm()\n",
              "            (qkv): Conv2d()\n",
              "            (proj): Conv2d()\n",
              "          )\n",
              "          (16x16_in1): UNetBlock(\n",
              "            (norm0): GroupNorm()\n",
              "            (conv0): Conv2d()\n",
              "            (norm1): GroupNorm()\n",
              "            (conv1): Conv2d()\n",
              "          )\n",
              "          (16x16_block0): UNetBlock(\n",
              "            (norm0): GroupNorm()\n",
              "            (conv0): Conv2d()\n",
              "            (norm1): GroupNorm()\n",
              "            (conv1): Conv2d()\n",
              "            (skip): Conv2d()\n",
              "          )\n",
              "          (16x16_block1): UNetBlock(\n",
              "            (norm0): GroupNorm()\n",
              "            (conv0): Conv2d()\n",
              "            (norm1): GroupNorm()\n",
              "            (conv1): Conv2d()\n",
              "            (skip): Conv2d()\n",
              "          )\n",
              "          (16x16_block2): UNetBlock(\n",
              "            (norm0): GroupNorm()\n",
              "            (conv0): Conv2d()\n",
              "            (norm1): GroupNorm()\n",
              "            (conv1): Conv2d()\n",
              "            (skip): Conv2d()\n",
              "          )\n",
              "          (16x16_block3): UNetBlock(\n",
              "            (norm0): GroupNorm()\n",
              "            (conv0): Conv2d()\n",
              "            (norm1): GroupNorm()\n",
              "            (conv1): Conv2d()\n",
              "            (skip): Conv2d()\n",
              "          )\n",
              "          (16x16_block4): UNetBlock(\n",
              "            (norm0): GroupNorm()\n",
              "            (conv0): Conv2d()\n",
              "            (norm1): GroupNorm()\n",
              "            (conv1): Conv2d()\n",
              "            (skip): Conv2d()\n",
              "            (norm2): GroupNorm()\n",
              "            (qkv): Conv2d()\n",
              "            (proj): Conv2d()\n",
              "          )\n",
              "          (32x32_up): UNetBlock(\n",
              "            (norm0): GroupNorm()\n",
              "            (conv0): Conv2d()\n",
              "            (norm1): GroupNorm()\n",
              "            (conv1): Conv2d()\n",
              "            (skip): Conv2d()\n",
              "          )\n",
              "          (32x32_block0): UNetBlock(\n",
              "            (norm0): GroupNorm()\n",
              "            (conv0): Conv2d()\n",
              "            (norm1): GroupNorm()\n",
              "            (conv1): Conv2d()\n",
              "            (skip): Conv2d()\n",
              "          )\n",
              "          (32x32_block1): UNetBlock(\n",
              "            (norm0): GroupNorm()\n",
              "            (conv0): Conv2d()\n",
              "            (norm1): GroupNorm()\n",
              "            (conv1): Conv2d()\n",
              "            (skip): Conv2d()\n",
              "          )\n",
              "          (32x32_block2): UNetBlock(\n",
              "            (norm0): GroupNorm()\n",
              "            (conv0): Conv2d()\n",
              "            (norm1): GroupNorm()\n",
              "            (conv1): Conv2d()\n",
              "            (skip): Conv2d()\n",
              "          )\n",
              "          (32x32_block3): UNetBlock(\n",
              "            (norm0): GroupNorm()\n",
              "            (conv0): Conv2d()\n",
              "            (norm1): GroupNorm()\n",
              "            (conv1): Conv2d()\n",
              "            (skip): Conv2d()\n",
              "          )\n",
              "          (32x32_block4): UNetBlock(\n",
              "            (norm0): GroupNorm()\n",
              "            (conv0): Conv2d()\n",
              "            (norm1): GroupNorm()\n",
              "            (conv1): Conv2d()\n",
              "            (skip): Conv2d()\n",
              "          )\n",
              "          (64x64_up): UNetBlock(\n",
              "            (norm0): GroupNorm()\n",
              "            (conv0): Conv2d()\n",
              "            (norm1): GroupNorm()\n",
              "            (conv1): Conv2d()\n",
              "            (skip): Conv2d()\n",
              "          )\n",
              "          (64x64_block0): UNetBlock(\n",
              "            (norm0): GroupNorm()\n",
              "            (conv0): Conv2d()\n",
              "            (norm1): GroupNorm()\n",
              "            (conv1): Conv2d()\n",
              "            (skip): Conv2d()\n",
              "          )\n",
              "          (64x64_block1): UNetBlock(\n",
              "            (norm0): GroupNorm()\n",
              "            (conv0): Conv2d()\n",
              "            (norm1): GroupNorm()\n",
              "            (conv1): Conv2d()\n",
              "            (skip): Conv2d()\n",
              "          )\n",
              "          (64x64_block2): UNetBlock(\n",
              "            (norm0): GroupNorm()\n",
              "            (conv0): Conv2d()\n",
              "            (norm1): GroupNorm()\n",
              "            (conv1): Conv2d()\n",
              "            (skip): Conv2d()\n",
              "          )\n",
              "          (64x64_block3): UNetBlock(\n",
              "            (norm0): GroupNorm()\n",
              "            (conv0): Conv2d()\n",
              "            (norm1): GroupNorm()\n",
              "            (conv1): Conv2d()\n",
              "            (skip): Conv2d()\n",
              "          )\n",
              "          (64x64_block4): UNetBlock(\n",
              "            (norm0): GroupNorm()\n",
              "            (conv0): Conv2d()\n",
              "            (norm1): GroupNorm()\n",
              "            (conv1): Conv2d()\n",
              "            (skip): Conv2d()\n",
              "          )\n",
              "          (128x128_up): UNetBlock(\n",
              "            (norm0): GroupNorm()\n",
              "            (conv0): Conv2d()\n",
              "            (norm1): GroupNorm()\n",
              "            (conv1): Conv2d()\n",
              "            (skip): Conv2d()\n",
              "          )\n",
              "          (128x128_block0): UNetBlock(\n",
              "            (norm0): GroupNorm()\n",
              "            (conv0): Conv2d()\n",
              "            (norm1): GroupNorm()\n",
              "            (conv1): Conv2d()\n",
              "            (skip): Conv2d()\n",
              "          )\n",
              "          (128x128_block1): UNetBlock(\n",
              "            (norm0): GroupNorm()\n",
              "            (conv0): Conv2d()\n",
              "            (norm1): GroupNorm()\n",
              "            (conv1): Conv2d()\n",
              "            (skip): Conv2d()\n",
              "          )\n",
              "          (128x128_block2): UNetBlock(\n",
              "            (norm0): GroupNorm()\n",
              "            (conv0): Conv2d()\n",
              "            (norm1): GroupNorm()\n",
              "            (conv1): Conv2d()\n",
              "            (skip): Conv2d()\n",
              "          )\n",
              "          (128x128_block3): UNetBlock(\n",
              "            (norm0): GroupNorm()\n",
              "            (conv0): Conv2d()\n",
              "            (norm1): GroupNorm()\n",
              "            (conv1): Conv2d()\n",
              "            (skip): Conv2d()\n",
              "          )\n",
              "          (128x128_block4): UNetBlock(\n",
              "            (norm0): GroupNorm()\n",
              "            (conv0): Conv2d()\n",
              "            (norm1): GroupNorm()\n",
              "            (conv1): Conv2d()\n",
              "            (skip): Conv2d()\n",
              "          )\n",
              "          (128x128_aux_norm): GroupNorm()\n",
              "          (128x128_aux_conv): Conv2d()\n",
              "        )\n",
              "      )\n",
              "      (out): Conv2d(24, 24, kernel_size=(1, 1), stride=(1, 1))\n",
              "    )\n",
              "    (depth_activation): Sigmoid()\n",
              "  )\n",
              "  (_original_module): GaussianSplatPredictor(\n",
              "    (network_with_offset): SingleImageSongUNetPredictor(\n",
              "      (encoder): SongUNet(\n",
              "        (enc): ModuleDict(\n",
              "          (128x128_conv): Conv2d()\n",
              "          (128x128_block0): UNetBlock(\n",
              "            (norm0): GroupNorm()\n",
              "            (conv0): Conv2d()\n",
              "            (norm1): GroupNorm()\n",
              "            (conv1): Conv2d()\n",
              "          )\n",
              "          (128x128_block1): UNetBlock(\n",
              "            (norm0): GroupNorm()\n",
              "            (conv0): Conv2d()\n",
              "            (norm1): GroupNorm()\n",
              "            (conv1): Conv2d()\n",
              "          )\n",
              "          (128x128_block2): UNetBlock(\n",
              "            (norm0): GroupNorm()\n",
              "            (conv0): Conv2d()\n",
              "            (norm1): GroupNorm()\n",
              "            (conv1): Conv2d()\n",
              "          )\n",
              "          (128x128_block3): UNetBlock(\n",
              "            (norm0): GroupNorm()\n",
              "            (conv0): Conv2d()\n",
              "            (norm1): GroupNorm()\n",
              "            (conv1): Conv2d()\n",
              "          )\n",
              "          (64x64_down): UNetBlock(\n",
              "            (norm0): GroupNorm()\n",
              "            (conv0): Conv2d()\n",
              "            (norm1): GroupNorm()\n",
              "            (conv1): Conv2d()\n",
              "            (skip): Conv2d()\n",
              "          )\n",
              "          (64x64_block0): UNetBlock(\n",
              "            (norm0): GroupNorm()\n",
              "            (conv0): Conv2d()\n",
              "            (norm1): GroupNorm()\n",
              "            (conv1): Conv2d()\n",
              "            (skip): Conv2d()\n",
              "          )\n",
              "          (64x64_block1): UNetBlock(\n",
              "            (norm0): GroupNorm()\n",
              "            (conv0): Conv2d()\n",
              "            (norm1): GroupNorm()\n",
              "            (conv1): Conv2d()\n",
              "          )\n",
              "          (64x64_block2): UNetBlock(\n",
              "            (norm0): GroupNorm()\n",
              "            (conv0): Conv2d()\n",
              "            (norm1): GroupNorm()\n",
              "            (conv1): Conv2d()\n",
              "          )\n",
              "          (64x64_block3): UNetBlock(\n",
              "            (norm0): GroupNorm()\n",
              "            (conv0): Conv2d()\n",
              "            (norm1): GroupNorm()\n",
              "            (conv1): Conv2d()\n",
              "          )\n",
              "          (32x32_down): UNetBlock(\n",
              "            (norm0): GroupNorm()\n",
              "            (conv0): Conv2d()\n",
              "            (norm1): GroupNorm()\n",
              "            (conv1): Conv2d()\n",
              "            (skip): Conv2d()\n",
              "          )\n",
              "          (32x32_block0): UNetBlock(\n",
              "            (norm0): GroupNorm()\n",
              "            (conv0): Conv2d()\n",
              "            (norm1): GroupNorm()\n",
              "            (conv1): Conv2d()\n",
              "          )\n",
              "          (32x32_block1): UNetBlock(\n",
              "            (norm0): GroupNorm()\n",
              "            (conv0): Conv2d()\n",
              "            (norm1): GroupNorm()\n",
              "            (conv1): Conv2d()\n",
              "          )\n",
              "          (32x32_block2): UNetBlock(\n",
              "            (norm0): GroupNorm()\n",
              "            (conv0): Conv2d()\n",
              "            (norm1): GroupNorm()\n",
              "            (conv1): Conv2d()\n",
              "          )\n",
              "          (32x32_block3): UNetBlock(\n",
              "            (norm0): GroupNorm()\n",
              "            (conv0): Conv2d()\n",
              "            (norm1): GroupNorm()\n",
              "            (conv1): Conv2d()\n",
              "          )\n",
              "          (16x16_down): UNetBlock(\n",
              "            (norm0): GroupNorm()\n",
              "            (conv0): Conv2d()\n",
              "            (norm1): GroupNorm()\n",
              "            (conv1): Conv2d()\n",
              "            (skip): Conv2d()\n",
              "          )\n",
              "          (16x16_block0): UNetBlock(\n",
              "            (norm0): GroupNorm()\n",
              "            (conv0): Conv2d()\n",
              "            (norm1): GroupNorm()\n",
              "            (conv1): Conv2d()\n",
              "            (norm2): GroupNorm()\n",
              "            (qkv): Conv2d()\n",
              "            (proj): Conv2d()\n",
              "          )\n",
              "          (16x16_block1): UNetBlock(\n",
              "            (norm0): GroupNorm()\n",
              "            (conv0): Conv2d()\n",
              "            (norm1): GroupNorm()\n",
              "            (conv1): Conv2d()\n",
              "            (norm2): GroupNorm()\n",
              "            (qkv): Conv2d()\n",
              "            (proj): Conv2d()\n",
              "          )\n",
              "          (16x16_block2): UNetBlock(\n",
              "            (norm0): GroupNorm()\n",
              "            (conv0): Conv2d()\n",
              "            (norm1): GroupNorm()\n",
              "            (conv1): Conv2d()\n",
              "            (norm2): GroupNorm()\n",
              "            (qkv): Conv2d()\n",
              "            (proj): Conv2d()\n",
              "          )\n",
              "          (16x16_block3): UNetBlock(\n",
              "            (norm0): GroupNorm()\n",
              "            (conv0): Conv2d()\n",
              "            (norm1): GroupNorm()\n",
              "            (conv1): Conv2d()\n",
              "            (norm2): GroupNorm()\n",
              "            (qkv): Conv2d()\n",
              "            (proj): Conv2d()\n",
              "          )\n",
              "        )\n",
              "        (dec): ModuleDict(\n",
              "          (16x16_in0): UNetBlock(\n",
              "            (norm0): GroupNorm()\n",
              "            (conv0): Conv2d()\n",
              "            (norm1): GroupNorm()\n",
              "            (conv1): Conv2d()\n",
              "            (norm2): GroupNorm()\n",
              "            (qkv): Conv2d()\n",
              "            (proj): Conv2d()\n",
              "          )\n",
              "          (16x16_in1): UNetBlock(\n",
              "            (norm0): GroupNorm()\n",
              "            (conv0): Conv2d()\n",
              "            (norm1): GroupNorm()\n",
              "            (conv1): Conv2d()\n",
              "          )\n",
              "          (16x16_block0): UNetBlock(\n",
              "            (norm0): GroupNorm()\n",
              "            (conv0): Conv2d()\n",
              "            (norm1): GroupNorm()\n",
              "            (conv1): Conv2d()\n",
              "            (skip): Conv2d()\n",
              "          )\n",
              "          (16x16_block1): UNetBlock(\n",
              "            (norm0): GroupNorm()\n",
              "            (conv0): Conv2d()\n",
              "            (norm1): GroupNorm()\n",
              "            (conv1): Conv2d()\n",
              "            (skip): Conv2d()\n",
              "          )\n",
              "          (16x16_block2): UNetBlock(\n",
              "            (norm0): GroupNorm()\n",
              "            (conv0): Conv2d()\n",
              "            (norm1): GroupNorm()\n",
              "            (conv1): Conv2d()\n",
              "            (skip): Conv2d()\n",
              "          )\n",
              "          (16x16_block3): UNetBlock(\n",
              "            (norm0): GroupNorm()\n",
              "            (conv0): Conv2d()\n",
              "            (norm1): GroupNorm()\n",
              "            (conv1): Conv2d()\n",
              "            (skip): Conv2d()\n",
              "          )\n",
              "          (16x16_block4): UNetBlock(\n",
              "            (norm0): GroupNorm()\n",
              "            (conv0): Conv2d()\n",
              "            (norm1): GroupNorm()\n",
              "            (conv1): Conv2d()\n",
              "            (skip): Conv2d()\n",
              "            (norm2): GroupNorm()\n",
              "            (qkv): Conv2d()\n",
              "            (proj): Conv2d()\n",
              "          )\n",
              "          (32x32_up): UNetBlock(\n",
              "            (norm0): GroupNorm()\n",
              "            (conv0): Conv2d()\n",
              "            (norm1): GroupNorm()\n",
              "            (conv1): Conv2d()\n",
              "            (skip): Conv2d()\n",
              "          )\n",
              "          (32x32_block0): UNetBlock(\n",
              "            (norm0): GroupNorm()\n",
              "            (conv0): Conv2d()\n",
              "            (norm1): GroupNorm()\n",
              "            (conv1): Conv2d()\n",
              "            (skip): Conv2d()\n",
              "          )\n",
              "          (32x32_block1): UNetBlock(\n",
              "            (norm0): GroupNorm()\n",
              "            (conv0): Conv2d()\n",
              "            (norm1): GroupNorm()\n",
              "            (conv1): Conv2d()\n",
              "            (skip): Conv2d()\n",
              "          )\n",
              "          (32x32_block2): UNetBlock(\n",
              "            (norm0): GroupNorm()\n",
              "            (conv0): Conv2d()\n",
              "            (norm1): GroupNorm()\n",
              "            (conv1): Conv2d()\n",
              "            (skip): Conv2d()\n",
              "          )\n",
              "          (32x32_block3): UNetBlock(\n",
              "            (norm0): GroupNorm()\n",
              "            (conv0): Conv2d()\n",
              "            (norm1): GroupNorm()\n",
              "            (conv1): Conv2d()\n",
              "            (skip): Conv2d()\n",
              "          )\n",
              "          (32x32_block4): UNetBlock(\n",
              "            (norm0): GroupNorm()\n",
              "            (conv0): Conv2d()\n",
              "            (norm1): GroupNorm()\n",
              "            (conv1): Conv2d()\n",
              "            (skip): Conv2d()\n",
              "          )\n",
              "          (64x64_up): UNetBlock(\n",
              "            (norm0): GroupNorm()\n",
              "            (conv0): Conv2d()\n",
              "            (norm1): GroupNorm()\n",
              "            (conv1): Conv2d()\n",
              "            (skip): Conv2d()\n",
              "          )\n",
              "          (64x64_block0): UNetBlock(\n",
              "            (norm0): GroupNorm()\n",
              "            (conv0): Conv2d()\n",
              "            (norm1): GroupNorm()\n",
              "            (conv1): Conv2d()\n",
              "            (skip): Conv2d()\n",
              "          )\n",
              "          (64x64_block1): UNetBlock(\n",
              "            (norm0): GroupNorm()\n",
              "            (conv0): Conv2d()\n",
              "            (norm1): GroupNorm()\n",
              "            (conv1): Conv2d()\n",
              "            (skip): Conv2d()\n",
              "          )\n",
              "          (64x64_block2): UNetBlock(\n",
              "            (norm0): GroupNorm()\n",
              "            (conv0): Conv2d()\n",
              "            (norm1): GroupNorm()\n",
              "            (conv1): Conv2d()\n",
              "            (skip): Conv2d()\n",
              "          )\n",
              "          (64x64_block3): UNetBlock(\n",
              "            (norm0): GroupNorm()\n",
              "            (conv0): Conv2d()\n",
              "            (norm1): GroupNorm()\n",
              "            (conv1): Conv2d()\n",
              "            (skip): Conv2d()\n",
              "          )\n",
              "          (64x64_block4): UNetBlock(\n",
              "            (norm0): GroupNorm()\n",
              "            (conv0): Conv2d()\n",
              "            (norm1): GroupNorm()\n",
              "            (conv1): Conv2d()\n",
              "            (skip): Conv2d()\n",
              "          )\n",
              "          (128x128_up): UNetBlock(\n",
              "            (norm0): GroupNorm()\n",
              "            (conv0): Conv2d()\n",
              "            (norm1): GroupNorm()\n",
              "            (conv1): Conv2d()\n",
              "            (skip): Conv2d()\n",
              "          )\n",
              "          (128x128_block0): UNetBlock(\n",
              "            (norm0): GroupNorm()\n",
              "            (conv0): Conv2d()\n",
              "            (norm1): GroupNorm()\n",
              "            (conv1): Conv2d()\n",
              "            (skip): Conv2d()\n",
              "          )\n",
              "          (128x128_block1): UNetBlock(\n",
              "            (norm0): GroupNorm()\n",
              "            (conv0): Conv2d()\n",
              "            (norm1): GroupNorm()\n",
              "            (conv1): Conv2d()\n",
              "            (skip): Conv2d()\n",
              "          )\n",
              "          (128x128_block2): UNetBlock(\n",
              "            (norm0): GroupNorm()\n",
              "            (conv0): Conv2d()\n",
              "            (norm1): GroupNorm()\n",
              "            (conv1): Conv2d()\n",
              "            (skip): Conv2d()\n",
              "          )\n",
              "          (128x128_block3): UNetBlock(\n",
              "            (norm0): GroupNorm()\n",
              "            (conv0): Conv2d()\n",
              "            (norm1): GroupNorm()\n",
              "            (conv1): Conv2d()\n",
              "            (skip): Conv2d()\n",
              "          )\n",
              "          (128x128_block4): UNetBlock(\n",
              "            (norm0): GroupNorm()\n",
              "            (conv0): Conv2d()\n",
              "            (norm1): GroupNorm()\n",
              "            (conv1): Conv2d()\n",
              "            (skip): Conv2d()\n",
              "          )\n",
              "          (128x128_aux_norm): GroupNorm()\n",
              "          (128x128_aux_conv): Conv2d()\n",
              "        )\n",
              "      )\n",
              "      (out): Conv2d(24, 24, kernel_size=(1, 1), stride=(1, 1))\n",
              "    )\n",
              "    (depth_activation): Sigmoid()\n",
              "  )\n",
              ")"
            ]
          },
          "metadata": {},
          "execution_count": 22
        }
      ]
    },
    {
      "cell_type": "code",
      "source": [
        "# Setup Multi Gaussian Predictor (extended)\n",
        "multi_scale_gaussian_predictor = MultiGaussianSplatPredictor(4, 128).to(memory_format=torch.channels_last)\n",
        "multi_optimizer = torch.optim.Adam(params=multi_scale_gaussian_predictor.parameters(), lr=learning_rate, eps=1e-15, betas=betas)\n",
        "multi_scale_gaussian_predictor, multi_optimizer = fabric.setup(multi_scale_gaussian_predictor, multi_optimizer)\n",
        "\n",
        "if fabric.is_global_zero:\n",
        "    multi_ema = EMA(multi_scale_gaussian_predictor, beta=0.9999, update_every=10, update_after_step=100)\n",
        "    multi_ema = fabric.to_device(multi_ema)"
      ],
      "metadata": {
        "id": "__SkrGip6ZvT"
      },
      "execution_count": null,
      "outputs": []
    },
    {
      "cell_type": "code",
      "source": [
        "# Setup Multi Gaussian Predictor (extended, pre-trained)\n",
        "pretrained_file = os.path.join(PRE_TRAINED_ROOT, f\"{data_category}.paper.pt\")\n",
        "checkpoint = torch.load(pretrained_file, map_location=\"cuda\")\n",
        "state_dict = checkpoint[\"model_state_dict\"]\n",
        "\n",
        "multi_scale_pre_gaussian_predictor = MultiGaussianSplatPredictor(2, 256, scaling_factor=8, state_dict=state_dict).to(memory_format=torch.channels_last)\n",
        "multi_pre_optimizer = torch.optim.Adam(params=multi_scale_pre_gaussian_predictor.parameters(), lr=learning_rate, eps=1e-15, betas=betas)\n",
        "multi_scale_pre_gaussian_predictor, multi_pre_optimizer = fabric.setup(multi_scale_pre_gaussian_predictor, multi_pre_optimizer)\n",
        "\n",
        "if fabric.is_global_zero:\n",
        "    multi_pre_ema = EMA(multi_scale_pre_gaussian_predictor, beta=0.9999, update_every=10, update_after_step=100)\n",
        "    multi_pre_ema = fabric.to_device(multi_pre_ema)"
      ],
      "metadata": {
        "colab": {
          "base_uri": "https://localhost:8080/"
        },
        "id": "aml6rxidGoqe",
        "outputId": "5a7d22ae-8db1-4182-ad3d-8c2eee391bb1"
      },
      "execution_count": null,
      "outputs": [
        {
          "output_type": "stream",
          "name": "stderr",
          "text": [
            "<ipython-input-24-8c53b7c042a5>:3: FutureWarning: You are using `torch.load` with `weights_only=False` (the current default value), which uses the default pickle module implicitly. It is possible to construct malicious pickle data which will execute arbitrary code during unpickling (See https://github.com/pytorch/pytorch/blob/main/SECURITY.md#untrusted-models for more details). In a future release, the default value for `weights_only` will be flipped to `True`. This limits the functions that could be executed during unpickling. Arbitrary objects will no longer be allowed to be loaded via this mode unless they are explicitly allowlisted by the user via `torch.serialization.add_safe_globals`. We recommend you start setting `weights_only=True` for any use case where you don't have full control of the loaded file. Please open an issue on GitHub for any issues related to this experimental feature.\n",
            "  checkpoint = torch.load(pretrained_file, map_location=\"cuda\")\n"
          ]
        }
      ]
    },
    {
      "cell_type": "code",
      "source": [
        "lambda_lpips = 0\n",
        "lambda_l12 = 1 - lambda_lpips\n",
        "\n",
        "lpips_fn = lpips_loss\n",
        "loss_fn = l2_loss"
      ],
      "metadata": {
        "id": "lIDZUG-X6W2_"
      },
      "execution_count": null,
      "outputs": []
    },
    {
      "cell_type": "markdown",
      "source": [
        "## Restore State / Train (Base Model)"
      ],
      "metadata": {
        "id": "Rpcu774WHVJc"
      }
    },
    {
      "cell_type": "code",
      "source": [
        "# Restore state\n",
        "%%capture\n",
        "pretrained_file = os.path.join(PRE_TRAINED_ROOT, f\"{data_category}.base.pt\")\n",
        "if os.path.exists(pretrained_file):\n",
        "    fabric.load_raw(pretrained_file, base_gaussian_predictor)\n",
        "    base_gaussian_predictor.eval()\n",
        "else:\n",
        "    raise Exception(f\"Pre-trained file does not exist: {pretrained_file}\")"
      ],
      "metadata": {
        "id": "CGlmw6U1G-N7"
      },
      "execution_count": null,
      "outputs": []
    },
    {
      "cell_type": "code",
      "execution_count": null,
      "metadata": {
        "id": "JCaVwyTwYisF"
      },
      "outputs": [],
      "source": [
        "# distribute model and training dataset\n",
        "base_gaussian_predictor.train()\n",
        "print(\"Beginning training\")\n",
        "\n",
        "# load pre-existing epoch psnrs so we can append to them\n",
        "try:\n",
        "    epoch_psnrs = list(np.loadtxt(os.path.join(OUTPUTS_ROOT, f\"{data_category}.base.psnrs.csv\"), delimiter=\",\"))\n",
        "except FileNotFoundError:\n",
        "    epoch_psnrs = []\n",
        "\n",
        "for num_epoch in range(iterations//len(dataloader) + 1):\n",
        "    print(f\"starting epoch {num_epoch}\")\n",
        "    for data in tqdm(dataloader, desc=\"batch\", total=len(dataloader)):\n",
        "        # =============== Prepare input ================\n",
        "        input_images = data[\"gt_images\"][:, 0]\n",
        "        view_to_world_transforms = data[\"view_to_world_transforms\"][:, 0]\n",
        "        view_to_world_transform_quats = data[\"source_cv2wT_quat\"][:, 0]\n",
        "        gaussian_splats = base_gaussian_predictor(input_images, view_to_world_transforms, view_to_world_transform_quats)\n",
        "\n",
        "        # =============== Render ================\n",
        "        rendered_images = []\n",
        "        gt_images = []\n",
        "        render_psnrs = []\n",
        "\n",
        "        for b_idx in range(data[\"gt_images\"].shape[0]):\n",
        "            gaussian_splat = {k: v[b_idx].contiguous() for k, v in gaussian_splats.items()}\n",
        "            for r_idx in range(1, data[\"gt_images\"].shape[1]):\n",
        "                image = render_predicted(\n",
        "                    gaussian_splat,\n",
        "                    data[\"world_view_transforms\"][b_idx, r_idx],\n",
        "                    data[\"full_proj_transforms\"][b_idx, r_idx],\n",
        "                    data[\"camera_centers\"][b_idx, r_idx],\n",
        "                    background,\n",
        "                )[\"render\"]\n",
        "                gt_image = data[\"gt_images\"][b_idx, r_idx]\n",
        "\n",
        "                rendered_images.append(image)\n",
        "                gt_images.append(gt_image)\n",
        "                render_psnrs.append(psnr(image, gt_image))\n",
        "\n",
        "        rendered_images = torch.stack(rendered_images, dim=0)\n",
        "        gt_images = torch.stack(gt_images, dim=0)\n",
        "        epoch_psnrs.append(np.mean(render_psnrs))\n",
        "\n",
        "        # ============ Loss Computation ===============\n",
        "        total_loss = loss_fn(rendered_images, gt_images) * lambda_l12 + lpips_fn(rendered_images, gt_images) * lambda_lpips\n",
        "        fabric.backward(total_loss)\n",
        "\n",
        "        # ============ Optimization ===============\n",
        "        base_optimizer.step()\n",
        "        base_optimizer.zero_grad()\n",
        "\n",
        "        if fabric.is_global_zero:\n",
        "            ema.update()\n",
        "\n",
        "base_gaussian_predictor.eval()\n",
        "np.savetxt(os.path.join(OUTPUTS_ROOT, f\"{data_category}.base.psnrs.csv\"), np.array(epoch_psnrs), delimiter=\",\")\n",
        "torch.save(base_gaussian_predictor.state_dict(), os.path.join(PRE_TRAINED_ROOT, f\"{data_category}.base.pt\"))"
      ]
    },
    {
      "cell_type": "markdown",
      "source": [
        "## Restore State (Pre-trained model from original paper)"
      ],
      "metadata": {
        "id": "qaEXM0OR_6SQ"
      }
    },
    {
      "cell_type": "code",
      "source": [
        "%%capture\n",
        "pretrained_file = os.path.join(PRE_TRAINED_ROOT, f\"{data_category}.paper.pt\")\n",
        "if os.path.exists(pretrained_file):\n",
        "    checkpoint = torch.load(pretrained_file, map_location=\"cuda\")\n",
        "    paper_gaussian_predictor.load_state_dict(checkpoint[\"model_state_dict\"])\n",
        "    paper_gaussian_predictor.eval()\n",
        "else:\n",
        "    raise Exception(f\"Pre-trained file does not exist: {pretrained_file}\")"
      ],
      "metadata": {
        "id": "wsvEbfEm_5Go"
      },
      "execution_count": null,
      "outputs": []
    },
    {
      "cell_type": "markdown",
      "source": [
        "## Restore State / Train (Extended Model)"
      ],
      "metadata": {
        "id": "EZA84KmETWhM"
      }
    },
    {
      "cell_type": "code",
      "source": [
        "# Restore state\n",
        "%%capture\n",
        "pretrained_file = os.path.join(PRE_TRAINED_ROOT, f\"{data_category}.multi_scale.pt\")\n",
        "if os.path.exists(pretrained_file):\n",
        "    fabric.load_raw(pretrained_file, multi_scale_gaussian_predictor)\n",
        "    multi_scale_gaussian_predictor.eval()\n",
        "else:\n",
        "    raise Exception(f\"Pre-trained file does not exist: {pretrained_file}\")"
      ],
      "metadata": {
        "id": "tY8aCNa6TWhN"
      },
      "execution_count": null,
      "outputs": []
    },
    {
      "cell_type": "code",
      "execution_count": null,
      "metadata": {
        "colab": {
          "base_uri": "https://localhost:8080/"
        },
        "outputId": "0a49b945-1e3b-4f7a-b39e-8d4e12591dd3",
        "collapsed": true,
        "id": "CvVMFBy0TWhN"
      },
      "outputs": [
        {
          "output_type": "stream",
          "name": "stdout",
          "text": [
            "Beginning training\n",
            "starting epoch 0\n"
          ]
        },
        {
          "output_type": "stream",
          "name": "stderr",
          "text": [
            "batch: 100%|██████████| 1153/1153 [14:59<00:00,  1.28it/s]\n"
          ]
        },
        {
          "output_type": "stream",
          "name": "stdout",
          "text": [
            "starting epoch 1\n"
          ]
        },
        {
          "output_type": "stream",
          "name": "stderr",
          "text": [
            "batch: 100%|██████████| 1153/1153 [08:31<00:00,  2.26it/s]\n"
          ]
        },
        {
          "output_type": "stream",
          "name": "stdout",
          "text": [
            "starting epoch 2\n"
          ]
        },
        {
          "output_type": "stream",
          "name": "stderr",
          "text": [
            "batch: 100%|██████████| 1153/1153 [08:24<00:00,  2.28it/s]\n"
          ]
        },
        {
          "output_type": "stream",
          "name": "stdout",
          "text": [
            "starting epoch 3\n"
          ]
        },
        {
          "output_type": "stream",
          "name": "stderr",
          "text": [
            "batch: 100%|██████████| 1153/1153 [08:22<00:00,  2.30it/s]\n"
          ]
        },
        {
          "output_type": "stream",
          "name": "stdout",
          "text": [
            "starting epoch 4\n"
          ]
        },
        {
          "output_type": "stream",
          "name": "stderr",
          "text": [
            "batch: 100%|██████████| 1153/1153 [08:22<00:00,  2.29it/s]\n"
          ]
        },
        {
          "output_type": "stream",
          "name": "stdout",
          "text": [
            "starting epoch 5\n"
          ]
        },
        {
          "output_type": "stream",
          "name": "stderr",
          "text": [
            "batch: 100%|██████████| 1153/1153 [08:22<00:00,  2.30it/s]\n"
          ]
        },
        {
          "output_type": "stream",
          "name": "stdout",
          "text": [
            "starting epoch 6\n"
          ]
        },
        {
          "output_type": "stream",
          "name": "stderr",
          "text": [
            "batch: 100%|██████████| 1153/1153 [08:22<00:00,  2.30it/s]\n"
          ]
        },
        {
          "output_type": "stream",
          "name": "stdout",
          "text": [
            "starting epoch 7\n"
          ]
        },
        {
          "output_type": "stream",
          "name": "stderr",
          "text": [
            "batch: 100%|██████████| 1153/1153 [08:23<00:00,  2.29it/s]\n"
          ]
        },
        {
          "output_type": "stream",
          "name": "stdout",
          "text": [
            "starting epoch 8\n"
          ]
        },
        {
          "output_type": "stream",
          "name": "stderr",
          "text": [
            "batch: 100%|██████████| 1153/1153 [08:23<00:00,  2.29it/s]\n"
          ]
        }
      ],
      "source": [
        "# distribute model and training dataset\n",
        "multi_scale_gaussian_predictor.train()\n",
        "print(\"Beginning training\")\n",
        "\n",
        "# load pre-existing epoch psnrs so we can append to them\n",
        "try:\n",
        "    epoch_psnrs = list(np.loadtxt(os.path.join(OUTPUTS_ROOT, f\"{data_category}.multi_scale.psnrs.csv\"), delimiter=\",\"))\n",
        "except FileNotFoundError:\n",
        "    epoch_psnrs = []\n",
        "\n",
        "for num_epoch in range(iterations//len(dataloader) + 1):\n",
        "    print(f\"starting epoch {num_epoch}\")\n",
        "    for data in tqdm(dataloader, desc=\"batch\", total=len(dataloader)):\n",
        "        # =============== Prepare input ================\n",
        "        input_images = data[\"gt_images\"][:, 0]\n",
        "        view_to_world_transforms = data[\"view_to_world_transforms\"][:, 0]\n",
        "        view_to_world_transform_quats = data[\"source_cv2wT_quat\"][:, 0]\n",
        "        gaussian_splats = multi_scale_gaussian_predictor(input_images, view_to_world_transforms, view_to_world_transform_quats)\n",
        "\n",
        "        # =============== Render ================\n",
        "        rendered_images = []\n",
        "        gt_images = []\n",
        "        render_psnrs = []\n",
        "\n",
        "        for b_idx in range(data[\"gt_images\"].shape[0]):\n",
        "            gaussian_splat = {k: v[b_idx].contiguous() for k, v in gaussian_splats.items()}\n",
        "            for r_idx in range(1, data[\"gt_images\"].shape[1]):\n",
        "                image = render_predicted(\n",
        "                    gaussian_splat,\n",
        "                    data[\"world_view_transforms\"][b_idx, r_idx],\n",
        "                    data[\"full_proj_transforms\"][b_idx, r_idx],\n",
        "                    data[\"camera_centers\"][b_idx, r_idx],\n",
        "                    background,\n",
        "                )[\"render\"]\n",
        "                gt_image = data[\"gt_images\"][b_idx, r_idx]\n",
        "\n",
        "                rendered_images.append(image)\n",
        "                gt_images.append(gt_image)\n",
        "                render_psnrs.append(psnr(image, gt_image))\n",
        "\n",
        "        rendered_images = torch.stack(rendered_images, dim=0)\n",
        "        gt_images = torch.stack(gt_images, dim=0)\n",
        "        epoch_psnrs.append(np.mean(render_psnrs))\n",
        "\n",
        "        # ============ Loss Computation ===============\n",
        "        if lambda_lpips != 0:\n",
        "            total_loss = loss_fn(rendered_images, gt_images) * lambda_l12 + lpips_fn(rendered_images, gt_images) * lambda_lpips\n",
        "        else:\n",
        "            total_loss = loss_fn(rendered_images, gt_images)\n",
        "        fabric.backward(total_loss)\n",
        "\n",
        "        # ============ Optimization ===============\n",
        "        multi_optimizer.step()\n",
        "        multi_optimizer.zero_grad()\n",
        "\n",
        "        if fabric.is_global_zero:\n",
        "            multi_ema.update()\n",
        "\n",
        "multi_scale_gaussian_predictor.eval()\n",
        "np.savetxt(os.path.join(OUTPUTS_ROOT, f\"{data_category}.multi_scale.psnrs.csv\"), np.array(epoch_psnrs), delimiter=\",\")\n",
        "torch.save(multi_scale_gaussian_predictor.state_dict(), os.path.join(PRE_TRAINED_ROOT, f\"{data_category}.multi_scale.pt\"))"
      ]
    },
    {
      "cell_type": "markdown",
      "source": [
        "## Restore State / Train (Extended Pre-trained Model)"
      ],
      "metadata": {
        "id": "namb9SoPKFI6"
      }
    },
    {
      "cell_type": "code",
      "source": [
        "# Restore state\n",
        "%%capture\n",
        "pretrained_file = os.path.join(PRE_TRAINED_ROOT, f\"{data_category}.multi_scale_pre.pt\")\n",
        "if os.path.exists(pretrained_file):\n",
        "    fabric.load_raw(pretrained_file, multi_scale_pre_gaussian_predictor)\n",
        "    multi_scale_pre_gaussian_predictor.eval()\n",
        "else:\n",
        "    raise Exception(f\"Pre-trained file does not exist: {pretrained_file}\")"
      ],
      "metadata": {
        "id": "dzqUHSAFKFI7"
      },
      "execution_count": null,
      "outputs": []
    },
    {
      "cell_type": "code",
      "execution_count": null,
      "metadata": {
        "collapsed": true,
        "id": "-Vof4aRPKFI7",
        "colab": {
          "base_uri": "https://localhost:8080/"
        },
        "outputId": "5e1f46dc-2d05-4d6b-ee7c-9b5f5023548f"
      },
      "outputs": [
        {
          "output_type": "stream",
          "name": "stdout",
          "text": [
            "Beginning training\n",
            "starting epoch 0\n"
          ]
        },
        {
          "output_type": "stream",
          "name": "stderr",
          "text": [
            "batch: 100%|██████████| 615/615 [11:12<00:00,  1.09s/it]\n"
          ]
        },
        {
          "output_type": "stream",
          "name": "stdout",
          "text": [
            "starting epoch 1\n"
          ]
        },
        {
          "output_type": "stream",
          "name": "stderr",
          "text": [
            "batch: 100%|██████████| 615/615 [08:13<00:00,  1.25it/s]\n"
          ]
        }
      ],
      "source": [
        "# distribute model and training dataset\n",
        "multi_scale_pre_gaussian_predictor.train()\n",
        "print(\"Beginning training\")\n",
        "\n",
        "# load pre-existing epoch psnrs so we can append to them\n",
        "try:\n",
        "    epoch_psnrs = list(np.loadtxt(os.path.join(OUTPUTS_ROOT, f\"{data_category}.multi_scale_pre.psnrs.csv\"), delimiter=\",\"))\n",
        "except FileNotFoundError:\n",
        "    epoch_psnrs = []\n",
        "\n",
        "for num_epoch in range(1000//len(dataloader) + 1):\n",
        "    print(f\"starting epoch {num_epoch}\")\n",
        "    for data in tqdm(dataloader, desc=\"batch\", total=len(dataloader)):\n",
        "        # =============== Prepare input ================\n",
        "        input_images = data[\"gt_images\"][:, 0]\n",
        "        view_to_world_transforms = data[\"view_to_world_transforms\"][:, 0]\n",
        "        view_to_world_transform_quats = data[\"source_cv2wT_quat\"][:, 0]\n",
        "        gaussian_splats = multi_scale_pre_gaussian_predictor(input_images, view_to_world_transforms, view_to_world_transform_quats)\n",
        "\n",
        "        # =============== Render ================\n",
        "        rendered_images = []\n",
        "        gt_images = []\n",
        "        render_psnrs = []\n",
        "\n",
        "        for b_idx in range(data[\"gt_images\"].shape[0]):\n",
        "            gaussian_splat = {k: v[b_idx].contiguous() for k, v in gaussian_splats.items()}\n",
        "            for r_idx in range(1, data[\"gt_images\"].shape[1]):\n",
        "                image = render_predicted(\n",
        "                    gaussian_splat,\n",
        "                    data[\"world_view_transforms\"][b_idx, r_idx],\n",
        "                    data[\"full_proj_transforms\"][b_idx, r_idx],\n",
        "                    data[\"camera_centers\"][b_idx, r_idx],\n",
        "                    background,\n",
        "                )[\"render\"]\n",
        "                gt_image = data[\"gt_images\"][b_idx, r_idx]\n",
        "\n",
        "                rendered_images.append(image)\n",
        "                gt_images.append(gt_image)\n",
        "                render_psnrs.append(psnr(image, gt_image))\n",
        "\n",
        "        rendered_images = torch.stack(rendered_images, dim=0)\n",
        "        gt_images = torch.stack(gt_images, dim=0)\n",
        "        epoch_psnrs.append(np.mean(render_psnrs))\n",
        "\n",
        "        # ============ Loss Computation ===============\n",
        "        if lambda_lpips != 0:\n",
        "            total_loss = loss_fn(rendered_images, gt_images) * lambda_l12 + lpips_fn(rendered_images, gt_images) * lambda_lpips\n",
        "        else:\n",
        "            total_loss = loss_fn(rendered_images, gt_images)\n",
        "        fabric.backward(total_loss)\n",
        "\n",
        "        # ============ Optimization ===============\n",
        "        multi_pre_optimizer.step()\n",
        "        multi_pre_optimizer.zero_grad()\n",
        "\n",
        "        if fabric.is_global_zero:\n",
        "            multi_pre_ema.update()\n",
        "\n",
        "multi_scale_pre_gaussian_predictor.eval()\n",
        "np.savetxt(os.path.join(OUTPUTS_ROOT, f\"{data_category}.multi_scale_pre.psnrs.csv\"), np.array(epoch_psnrs), delimiter=\",\")\n",
        "torch.save(multi_scale_pre_gaussian_predictor.state_dict(), os.path.join(PRE_TRAINED_ROOT, f\"{data_category}.multi_scale_pre.pt\"))"
      ]
    },
    {
      "cell_type": "markdown",
      "metadata": {
        "id": "jd-GIvFf_Pzo"
      },
      "source": [
        "# Evaluation"
      ]
    },
    {
      "cell_type": "code",
      "source": [
        "data = next(iter(vis_dataloader))\n",
        "r_idx = 1\n",
        "\n",
        "input_images = data[\"gt_images\"][:, 0]\n",
        "view_to_world_transforms = data[\"view_to_world_transforms\"][:, 0]\n",
        "view_to_world_transform_quats = data[\"source_cv2wT_quat\"][:, 0]"
      ],
      "metadata": {
        "id": "1nSw8zjv6_A5"
      },
      "execution_count": null,
      "outputs": []
    },
    {
      "cell_type": "code",
      "source": [
        "def compute_mean_psnrs(gaussian_predictor, model_name):\n",
        "    mean_psnrs = []\n",
        "\n",
        "    for d_idx, data in tqdm(enumerate(val_dataloader), total=len(val_dataloader)):\n",
        "        example_id = val_dataloader.dataset.get_example_id(d_idx)\n",
        "\n",
        "        render_psnrs = []\n",
        "        input_images = data[\"gt_images\"][:, 0]\n",
        "        view_to_world_transforms = data[\"view_to_world_transforms\"][:, 0]\n",
        "        view_to_world_transform_quats = data[\"source_cv2wT_quat\"][:, 0]\n",
        "        gaussian_splats = gaussian_predictor(input_images, view_to_world_transforms, view_to_world_transform_quats)\n",
        "\n",
        "        with torch.no_grad():\n",
        "            # render image from all available views\n",
        "            for r_idx in range(1, data[\"gt_images\"].shape[1]):\n",
        "                rendered_image = render_predicted(\n",
        "                    {k: v[0].contiguous() for k, v in gaussian_splats.items()},\n",
        "                    data[\"world_view_transforms\"][0, r_idx],\n",
        "                    data[\"full_proj_transforms\"][0, r_idx],\n",
        "                    data[\"camera_centers\"][0, r_idx],\n",
        "                    background,\n",
        "                )[\"render\"]\n",
        "                gt_image = data[\"gt_images\"][0, r_idx]\n",
        "                render_psnrs.append(psnr(rendered_image, gt_image))\n",
        "\n",
        "            mean_psnrs.append(np.mean(render_psnrs))\n",
        "\n",
        "            # cache to file\n",
        "            with open(os.path.join(OUTPUTS_ROOT, f\"{data_category}.{model_name.lower()}.mean_psnrs.csv\"), \"a+\") as f:\n",
        "                f.write(f\"{d_idx},{example_id},{str(mean_psnrs[-1])}\\n\")\n",
        "    print(f\"mean of means: {np.mean(mean_psnrs)}\")\n",
        "    return mean_psnrs"
      ],
      "metadata": {
        "id": "D2c4DDsi-NBe"
      },
      "execution_count": null,
      "outputs": []
    },
    {
      "cell_type": "code",
      "source": [
        "def compare_significance_mean_psnrs(model_name, base_model_name, decimal_places=1):\n",
        "    # Significance Testing on two lists of PSNRS\n",
        "    # probability: probability of the null hypothesis\n",
        "    # success: true if model better than base_model\n",
        "\n",
        "    model_psnrs_dict = {}\n",
        "    base_model_psnrs_dict = {}\n",
        "\n",
        "    with open(os.path.join(OUTPUTS_ROOT, f\"{data_category}.{model_name.lower()}.mean_psnrs.csv\")) as f:\n",
        "        for line in f:\n",
        "            i, idx, psnr = line.split(\",\")\n",
        "            model_psnrs_dict[idx] = round(float(psnr), decimal_places)\n",
        "\n",
        "    with open(os.path.join(OUTPUTS_ROOT, f\"{data_category}.{base_model_name.lower()}.mean_psnrs.csv\")) as f:\n",
        "        for line in f:\n",
        "            i, idx, psnr = line.split(\",\")\n",
        "            base_model_psnrs_dict[idx] = round(float(psnr), decimal_places)\n",
        "\n",
        "    minus = 0\n",
        "    null = 0\n",
        "    plus = 0\n",
        "\n",
        "    for k in model_psnrs_dict.keys():\n",
        "        if model_psnrs_dict[k] < base_model_psnrs_dict[k]:\n",
        "            minus += 1\n",
        "        elif model_psnrs_dict[k] == base_model_psnrs_dict[k]:\n",
        "            null += 1\n",
        "        else:\n",
        "            plus += 1\n",
        "\n",
        "    n = 2 * (null // 2) + plus + minus\n",
        "    k = (null // 2) + min(plus, minus)\n",
        "    success = plus >= minus\n",
        "    probability = 0\n",
        "    for i in range(k+1):\n",
        "        probability += math.comb(n, i) * pow(0.5, n)\n",
        "    return 2 * probability, success"
      ],
      "metadata": {
        "id": "M6bgX2q1P-Hj"
      },
      "execution_count": null,
      "outputs": []
    },
    {
      "cell_type": "markdown",
      "source": [
        "## Base Model"
      ],
      "metadata": {
        "id": "B_pEskdV64dJ"
      }
    },
    {
      "cell_type": "code",
      "source": [
        "base_gaussian_splats = base_gaussian_predictor(input_images, view_to_world_transforms, view_to_world_transform_quats)\n",
        "\n",
        "# Render the chosen sample with base model\n",
        "with torch.no_grad():\n",
        "    rendered_image = render_predicted(\n",
        "        {k: v[0].contiguous() for k, v in base_gaussian_splats.items()},\n",
        "        data[\"world_view_transforms\"][0, r_idx],\n",
        "        data[\"full_proj_transforms\"][0, r_idx],\n",
        "        data[\"camera_centers\"][0, r_idx],\n",
        "        background,\n",
        "    )[\"render\"]\n",
        "\n",
        "images_side_by_side(rendered_image, data[\"gt_images\"][0, r_idx], \"Rendered Image (Base)\")"
      ],
      "metadata": {
        "colab": {
          "base_uri": "https://localhost:8080/",
          "height": 321
        },
        "id": "d1HxF3ef67Dz",
        "outputId": "9f437969-dde3-48e7-c04a-e86a7eb22a42"
      },
      "execution_count": null,
      "outputs": [
        {
          "output_type": "stream",
          "name": "stderr",
          "text": [
            "WARNING:matplotlib.image:Clipping input data to the valid range for imshow with RGB data ([0..1] for floats or [0..255] for integers).\n"
          ]
        },
        {
          "output_type": "display_data",
          "data": {
            "text/plain": [
              "<Figure size 640x480 with 2 Axes>"
            ],
            "image/png": "[encoded data removed]"
          },
          "metadata": {}
        }
      ]
    },
    {
      "cell_type": "markdown",
      "source": [
        "## Pre-trained model from original paper"
      ],
      "metadata": {
        "id": "NbzDqEHgW4vV"
      }
    },
    {
      "cell_type": "code",
      "source": [
        "paper_gaussian_splats = paper_gaussian_predictor(input_images, view_to_world_transforms, view_to_world_transform_quats)\n",
        "\n",
        "# Render the chosen sample with base model\n",
        "with torch.no_grad():\n",
        "    rendered_image = render_predicted(\n",
        "        {k: v[0].contiguous() for k, v in paper_gaussian_splats.items()},\n",
        "        data[\"world_view_transforms\"][0, r_idx],\n",
        "        data[\"full_proj_transforms\"][0, r_idx],\n",
        "        data[\"camera_centers\"][0, r_idx],\n",
        "        background,\n",
        "    )[\"render\"]\n",
        "\n",
        "images_side_by_side(rendered_image, data[\"gt_images\"][0, r_idx], \"Rendered Image (Paper)\")"
      ],
      "metadata": {
        "colab": {
          "base_uri": "https://localhost:8080/",
          "height": 321
        },
        "id": "bdHsG6grAlCC",
        "outputId": "086e9cfd-d36c-4a94-b2aa-be7a9c95ea3a"
      },
      "execution_count": null,
      "outputs": [
        {
          "output_type": "stream",
          "name": "stderr",
          "text": [
            "WARNING:matplotlib.image:Clipping input data to the valid range for imshow with RGB data ([0..1] for floats or [0..255] for integers).\n"
          ]
        },
        {
          "output_type": "display_data",
          "data": {
            "text/plain": [
              "<Figure size 640x480 with 2 Axes>"
            ],
            "image/png": "[encoded data removed]"
          },
          "metadata": {}
        }
      ]
    },
    {
      "cell_type": "markdown",
      "source": [
        "## Extended Model"
      ],
      "metadata": {
        "id": "i6jHSI8567Tv"
      }
    },
    {
      "cell_type": "code",
      "execution_count": null,
      "metadata": {
        "id": "6sNxsmQV-8Tm",
        "colab": {
          "base_uri": "https://localhost:8080/",
          "height": 1000
        },
        "outputId": "ddcd0789-5ad0-49f7-8d61-415d007c2870"
      },
      "outputs": [
        {
          "output_type": "stream",
          "name": "stderr",
          "text": [
            "WARNING:matplotlib.image:Clipping input data to the valid range for imshow with RGB data ([0..1] for floats or [0..255] for integers).\n",
            "WARNING:matplotlib.image:Clipping input data to the valid range for imshow with RGB data ([0..1] for floats or [0..255] for integers).\n"
          ]
        },
        {
          "output_type": "stream",
          "name": "stdout",
          "text": [
            "Threshold=0.00, mean scale: 0.009824049659073353\n",
            "\n",
            "Threshold=0.08, mean scale: 0.0049174027517437935\n",
            "\n",
            "Threshold=0.17, mean scale: 0.0009516584104858339\n",
            "\n",
            "Threshold=0.25, mean scale: 0.0001259909913642332\n",
            "\n"
          ]
        },
        {
          "output_type": "display_data",
          "data": {
            "text/plain": [
              "<Figure size 640x480 with 2 Axes>"
            ],
            "image/png": "[encoded data removed]"
          },
          "metadata": {}
        },
        {
          "output_type": "stream",
          "name": "stderr",
          "text": [
            "WARNING:matplotlib.image:Clipping input data to the valid range for imshow with RGB data ([0..1] for floats or [0..255] for integers).\n",
            "WARNING:matplotlib.image:Clipping input data to the valid range for imshow with RGB data ([0..1] for floats or [0..255] for integers).\n"
          ]
        },
        {
          "output_type": "display_data",
          "data": {
            "text/plain": [
              "<Figure size 640x480 with 2 Axes>"
            ],
            "image/png": "[encoded data removed]"
          },
          "metadata": {}
        },
        {
          "output_type": "stream",
          "name": "stderr",
          "text": [
            "WARNING:matplotlib.image:Clipping input data to the valid range for imshow with RGB data ([0..1] for floats or [0..255] for integers).\n"
          ]
        },
        {
          "output_type": "display_data",
          "data": {
            "text/plain": [
              "<Figure size 640x480 with 2 Axes>"
            ],
            "image/png": "[encoded data removed]"
          },
          "metadata": {}
        }
      ],
      "source": [
        "multi_scale_gaussian_splats = multi_scale_gaussian_predictor(input_images, view_to_world_transforms, view_to_world_transform_quats)\n",
        "\n",
        "full_splat = {k: v[0].contiguous() for k, v in multi_scale_gaussian_splats.items()}\n",
        "thresholds = torch.round(torch.linspace(0.0, 0.25, 4), decimals=2)\n",
        "layered_splat = [{}, {}, {}, {}]\n",
        "layered_image = []\n",
        "\n",
        "for k, v in full_splat.items():\n",
        "    layered_splat[0][k], layered_splat[1][k], layered_splat[2][k], layered_splat[3][k] = torch.chunk(v, 4)\n",
        "\n",
        "# Render the chosen sample with extended model\n",
        "with torch.no_grad():\n",
        "    rendered_image = render_predicted(\n",
        "        full_splat,\n",
        "        data[\"world_view_transforms\"][0, r_idx],\n",
        "        data[\"full_proj_transforms\"][0, r_idx],\n",
        "        data[\"camera_centers\"][0, r_idx],\n",
        "        background,\n",
        "    )[\"render\"]\n",
        "    for splat, threshold in zip(layered_splat, thresholds):\n",
        "        layered_image.append(render_predicted(\n",
        "            splat,\n",
        "            data[\"world_view_transforms\"][0, r_idx],\n",
        "            data[\"full_proj_transforms\"][0, r_idx],\n",
        "            data[\"camera_centers\"][0, r_idx],\n",
        "            background,\n",
        "        )[\"render\"])\n",
        "        print(f\"Threshold={threshold:.2f}, mean scale: {torch.mean(splat['scaling'])}\\n\")\n",
        "\n",
        "images_side_by_side(layered_image[0], layered_image[1], f\"Threshold={thresholds[0]:.2f}\", f\"Threshold={thresholds[1]:.2f}\")\n",
        "images_side_by_side(layered_image[2], layered_image[3], f\"Threshold={thresholds[2]:.2f}\", f\"Threshold={thresholds[3]:.2f})\")\n",
        "images_side_by_side(rendered_image, data[\"gt_images\"][0, r_idx], \"Rendered Image (Combined)\")"
      ]
    },
    {
      "cell_type": "markdown",
      "source": [
        "##Extended Pre-trained Model"
      ],
      "metadata": {
        "id": "6P9eg-G2fkjv"
      }
    },
    {
      "cell_type": "code",
      "source": [
        "multi_scale_pre_gaussian_splats = multi_scale_pre_gaussian_predictor(input_images, view_to_world_transforms, view_to_world_transform_quats)\n",
        "\n",
        "full_splat = {k: v[0].contiguous() for k, v in multi_scale_pre_gaussian_splats.items()}\n",
        "thresholds = torch.round(torch.linspace(0.0, 0.25, 2), decimals=2)\n",
        "layered_splat = [{}, {}]\n",
        "layered_image = []\n",
        "\n",
        "for k, v in full_splat.items():\n",
        "    layered_splat[0][k], layered_splat[1][k], = torch.chunk(v, 2)\n",
        "\n",
        "# Render the chosen sample with extended model\n",
        "with torch.no_grad():\n",
        "    rendered_image = render_predicted(\n",
        "        full_splat,\n",
        "        data[\"world_view_transforms\"][0, r_idx],\n",
        "        data[\"full_proj_transforms\"][0, r_idx],\n",
        "        data[\"camera_centers\"][0, r_idx],\n",
        "        background,\n",
        "    )[\"render\"]\n",
        "    for splat, threshold in zip(layered_splat, thresholds):\n",
        "        layered_image.append(render_predicted(\n",
        "            splat,\n",
        "            data[\"world_view_transforms\"][0, r_idx],\n",
        "            data[\"full_proj_transforms\"][0, r_idx],\n",
        "            data[\"camera_centers\"][0, r_idx],\n",
        "            background,\n",
        "        )[\"render\"])\n",
        "        print(f\"Threshold={threshold}, mean scale: {torch.mean(splat['scaling'])}\\n\")\n",
        "\n",
        "images_side_by_side(layered_image[0], layered_image[1], f\"Threshold={thresholds[0]}\", f\"Threshold={thresholds[1]}\")\n",
        "images_side_by_side(rendered_image, data[\"gt_images\"][0, r_idx], \"Rendered Image(Combined)\")"
      ],
      "metadata": {
        "colab": {
          "base_uri": "https://localhost:8080/",
          "height": 673
        },
        "id": "eesTBbLiTlVO",
        "outputId": "4b53c84f-5417-4abc-cc66-60df96fff043"
      },
      "execution_count": null,
      "outputs": [
        {
          "output_type": "stream",
          "name": "stderr",
          "text": [
            "WARNING:matplotlib.image:Clipping input data to the valid range for imshow with RGB data ([0..1] for floats or [0..255] for integers).\n",
            "WARNING:matplotlib.image:Clipping input data to the valid range for imshow with RGB data ([0..1] for floats or [0..255] for integers).\n"
          ]
        },
        {
          "output_type": "stream",
          "name": "stdout",
          "text": [
            "Threshold=0.0, mean scale: 0.011852162890136242\n",
            "\n",
            "Threshold=0.25, mean scale: 0.0018428654875606298\n",
            "\n"
          ]
        },
        {
          "output_type": "display_data",
          "data": {
            "text/plain": [
              "<Figure size 640x480 with 2 Axes>"
            ],
            "image/png": "[encoded data removed]"
          },
          "metadata": {}
        },
        {
          "output_type": "stream",
          "name": "stderr",
          "text": [
            "WARNING:matplotlib.image:Clipping input data to the valid range for imshow with RGB data ([0..1] for floats or [0..255] for integers).\n"
          ]
        },
        {
          "output_type": "display_data",
          "data": {
            "text/plain": [
              "<Figure size 640x480 with 2 Axes>"
            ],
            "image/png": "[encoded data removed]"
          },
          "metadata": {}
        }
      ]
    },
    {
      "cell_type": "markdown",
      "source": [
        "## Quantitative Analysis"
      ],
      "metadata": {
        "id": "1-7BUfFSfqGu"
      }
    },
    {
      "cell_type": "code",
      "source": [
        "epoch_psnrs_base = np.loadtxt(os.path.join(OUTPUTS_ROOT, f\"{data_category}.base.psnrs.csv\"), delimiter=\",\")\n",
        "epoch_psnrs_multi_scale = np.loadtxt(os.path.join(OUTPUTS_ROOT, f\"{data_category}.multi_scale.psnrs.csv\"), delimiter=\",\")\n",
        "\n",
        "plt.plot(range(len(epoch_psnrs_base)), epoch_psnrs_base, \"b\", label=\"Base\")\n",
        "plt.plot(range(len(epoch_psnrs_multi_scale)), epoch_psnrs_multi_scale, \"r\", label=\"Extended\")\n",
        "\n",
        "plt.xlabel(\"Epoch\")\n",
        "plt.ylabel(\"PSNR\")\n",
        "plt.title(\"PSNR vs Epoch\")\n",
        "plt.legend()\n",
        "\n",
        "plt.show()"
      ],
      "metadata": {
        "colab": {
          "base_uri": "https://localhost:8080/",
          "height": 472
        },
        "id": "jhElnVB-rSLT",
        "outputId": "b3fe4083-1f53-4ae5-a7b2-a7124ae7df96"
      },
      "execution_count": null,
      "outputs": [
        {
          "output_type": "display_data",
          "data": {
            "text/plain": [
              "<Figure size 640x480 with 1 Axes>"
            ],
            "image/png": "[encoded data removed]"
          },
          "metadata": {}
        }
      ]
    },
    {
      "cell_type": "code",
      "execution_count": null,
      "metadata": {
        "id": "N6Je-V7H_SPH",
        "colab": {
          "base_uri": "https://localhost:8080/"
        },
        "outputId": "bf420499-e100-4a22-c673-e4b2ae3ed2b8",
        "collapsed": true
      },
      "outputs": [
        {
          "output_type": "stream",
          "name": "stderr",
          "text": [
            "100%|██████████| 662/662 [06:20<00:00,  1.74it/s]\n"
          ]
        },
        {
          "output_type": "stream",
          "name": "stdout",
          "text": [
            "mean of means: 18.61094530331044\n"
          ]
        },
        {
          "output_type": "stream",
          "name": "stderr",
          "text": [
            "100%|██████████| 662/662 [02:50<00:00,  3.89it/s]\n"
          ]
        },
        {
          "output_type": "stream",
          "name": "stdout",
          "text": [
            "mean of means: 24.659329442606953\n"
          ]
        },
        {
          "output_type": "stream",
          "name": "stderr",
          "text": [
            "100%|██████████| 662/662 [05:12<00:00,  2.12it/s]\n"
          ]
        },
        {
          "output_type": "stream",
          "name": "stdout",
          "text": [
            "mean of means: 17.303151066112374\n"
          ]
        },
        {
          "output_type": "stream",
          "name": "stderr",
          "text": [
            "100%|██████████| 662/662 [03:52<00:00,  2.84it/s]"
          ]
        },
        {
          "output_type": "stream",
          "name": "stdout",
          "text": [
            "mean of means: 23.347377657857905\n",
            "chairs multi-scale: success=False, p-value=7.647234193620136e-105\n",
            "chairs multi-scale pre-trained: success=False, p-value=1.1340927478574628e-107\n"
          ]
        },
        {
          "output_type": "stream",
          "name": "stderr",
          "text": [
            "\n"
          ]
        }
      ],
      "source": [
        "# Generate mean PSNRs\n",
        "compute_mean_psnrs(base_gaussian_predictor, \"base\")\n",
        "compute_mean_psnrs(paper_gaussian_predictor, \"paper\")\n",
        "compute_mean_psnrs(multi_scale_gaussian_predictor, \"multi_scale\")\n",
        "compute_mean_psnrs(multi_scale_pre_gaussian_predictor, \"multi_scale_pre\")"
      ]
    },
    {
      "cell_type": "code",
      "source": [
        "probability_1, success_1 = compare_significance_mean_psnrs(\"multi_scale\", \"base\", 0)\n",
        "print(f\"{data_category} multi-scale: success={success_1}, p-value={probability_1}\")\n",
        "\n",
        "probability_2, success_2 = compare_significance_mean_psnrs(\"multi_scale_pre\", \"paper\")\n",
        "print(f\"{data_category} multi-scale pre-trained: success={success_2}, p-value={probability_2}\", 0)"
      ],
      "metadata": {
        "colab": {
          "base_uri": "https://localhost:8080/"
        },
        "id": "8LWH7HtK1qiW",
        "outputId": "66a0913d-3c1d-4d9c-9ed6-6b02b1d3337b"
      },
      "execution_count": null,
      "outputs": [
        {
          "output_type": "stream",
          "name": "stdout",
          "text": [
            "chairs multi-scale: success=False, p-value=9.567911583201095e-95\n",
            "chairs multi-scale pre-trained: success=False, p-value=1.1340927478574628e-107 0\n"
          ]
        }
      ]
    },
    {
      "cell_type": "code",
      "source": [
        "drive.flush_and_unmount()"
      ],
      "metadata": {
        "id": "ruMR9DvNqQ6K"
      },
      "execution_count": null,
      "outputs": []
    }
  ],
  "metadata": {
    "colab": {
      "collapsed_sections": [
        "vxjym0yzQ_6k",
        "DXnVrz3J2My_",
        "aj0bhaQTOhm6",
        "G4RntDADYixZ",
        "jZ_FAWIzTsJi",
        "D2Uf3FmbwePZ",
        "IJquWnvZ8QPp",
        "Rpcu774WHVJc",
        "qaEXM0OR_6SQ",
        "EZA84KmETWhM",
        "namb9SoPKFI6"
      ],
      "provenance": [],
      "gpuType": "L4",
      "include_colab_link": true
    },
    "kernelspec": {
      "display_name": "Python 3",
      "name": "python3"
    },
    "language_info": {
      "name": "python"
    },
    "accelerator": "GPU"
  },
  "nbformat": 4,
  "nbformat_minor": 0
}